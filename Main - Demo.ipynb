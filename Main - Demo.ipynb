{
 "cells": [
  {
   "cell_type": "markdown",
   "metadata": {},
   "source": [
    "## Flight Delay Prediction (Binary Classification)"
   ]
  },
  {
   "cell_type": "code",
   "execution_count": null,
   "metadata": {
    "tags": []
   },
   "outputs": [],
   "source": [
    "import sys\n",
    "!{sys.executable} -m pip install seaborn\n",
    "!{sys.executable} -m pip install scikit-learn\n",
    "# !{sys.executable} -m pip install ydata-profiling"
   ]
  },
  {
   "cell_type": "markdown",
   "metadata": {},
   "source": [
    "### Preparation"
   ]
  },
  {
   "cell_type": "code",
   "execution_count": 2,
   "metadata": {
    "execution": {
     "iopub.execute_input": "2023-05-23T15:04:43.974189Z",
     "iopub.status.busy": "2023-05-23T15:04:43.973319Z",
     "iopub.status.idle": "2023-05-23T15:04:45.060407Z",
     "shell.execute_reply": "2023-05-23T15:04:45.059586Z",
     "shell.execute_reply.started": "2023-05-23T15:04:43.974116Z"
    },
    "tags": []
   },
   "outputs": [],
   "source": [
    "# Data Handeling\n",
    "import numpy as np\n",
    "import pandas as pd\n",
    "\n",
    "# Visualization\n",
    "import matplotlib.pyplot as plt\n",
    "import seaborn as sns\n",
    "\n",
    "# Machine Learning\n",
    "import inspect\n",
    "from sklearn.model_selection import train_test_split\n",
    "from sklearn.model_selection import GridSearchCV\n",
    "\n",
    "# Options\n",
    "%matplotlib inline\n",
    "pd.set_option('display.max_columns', None)\n",
    "sns.set_theme()\n",
    "pd.set_option('display.float_format', '{:.2f}'.format)\n",
    "\n",
    "# Initializing Result DataFrame\n",
    "result_df = pd.DataFrame(columns=['Model', 'Model Type', 'Train Score', 'Test Score', 'Settings'])"
   ]
  },
  {
   "cell_type": "markdown",
   "metadata": {},
   "source": [
    "### Importing Dataset"
   ]
  },
  {
   "cell_type": "markdown",
   "metadata": {},
   "source": [
    "Making the new dataset"
   ]
  },
  {
   "cell_type": "code",
   "execution_count": 9,
   "metadata": {
    "execution": {
     "iopub.execute_input": "2023-05-23T19:46:22.671788Z",
     "iopub.status.busy": "2023-05-23T19:46:22.670969Z",
     "iopub.status.idle": "2023-05-23T19:46:25.891021Z",
     "shell.execute_reply": "2023-05-23T19:46:25.889069Z",
     "shell.execute_reply.started": "2023-05-23T19:46:22.671730Z"
    },
    "tags": []
   },
   "outputs": [],
   "source": [
    "df = pd.read_pickle('./Datasets/flight_dataset.pkl')"
   ]
  },
  {
   "cell_type": "code",
   "execution_count": 48,
   "metadata": {
    "execution": {
     "iopub.execute_input": "2023-05-18T13:33:43.567749Z",
     "iopub.status.busy": "2023-05-18T13:33:43.566890Z",
     "iopub.status.idle": "2023-05-18T13:33:44.327587Z",
     "shell.execute_reply": "2023-05-18T13:33:44.326311Z",
     "shell.execute_reply.started": "2023-05-18T13:33:43.567691Z"
    },
    "tags": []
   },
   "outputs": [],
   "source": [
    "df.drop(['DAY_OF_MONTH', 'CRS_DEP_TIME', 'DEP_TIME', 'DEP_DELAY_NEW', 'CRS_ARR_TIME', 'ARR_TIME', 'ARR_DELAY_NEW', 'CRS_ELAPSED_TIME', 'ACTUAL_ELAPSED_TIME', 'DISTANCE', 'LATITUDE', 'LONGITUDE', 'CARRIER_DELAY', 'SECURITY_DELAY', 'WEATHER_DELAY', 'NAS_DELAY', 'LATE_AIRCRAFT_DELAY', 'SEGMENT_NUMBER'], axis=1, inplace=True)"
   ]
  },
  {
   "cell_type": "code",
   "execution_count": 16,
   "metadata": {
    "execution": {
     "iopub.execute_input": "2023-05-17T13:54:07.454305Z",
     "iopub.status.busy": "2023-05-17T13:54:07.453323Z",
     "iopub.status.idle": "2023-05-17T13:54:10.475405Z",
     "shell.execute_reply": "2023-05-17T13:54:10.474007Z",
     "shell.execute_reply.started": "2023-05-17T13:54:07.454240Z"
    },
    "tags": []
   },
   "outputs": [],
   "source": [
    "df.to_pickle('./Datasets/flight_dataset_ml.pkl')"
   ]
  },
  {
   "cell_type": "markdown",
   "metadata": {},
   "source": [
    "Creating a stratified sample"
   ]
  },
  {
   "cell_type": "code",
   "execution_count": 10,
   "metadata": {
    "execution": {
     "iopub.execute_input": "2023-05-23T19:46:33.458703Z",
     "iopub.status.busy": "2023-05-23T19:46:33.457801Z",
     "iopub.status.idle": "2023-05-23T19:46:35.822819Z",
     "shell.execute_reply": "2023-05-23T19:46:35.819168Z",
     "shell.execute_reply.started": "2023-05-23T19:46:33.458644Z"
    },
    "tags": []
   },
   "outputs": [],
   "source": [
    "from sklearn.model_selection import StratifiedShuffleSplit\n",
    "\n",
    "stratified_split = StratifiedShuffleSplit(n_splits=1, train_size=100000, random_state=90)\n",
    "\n",
    "# Generate the indices for the stratified sample\n",
    "indices = next(stratified_split.split(df, df['DEP_DEL15']))\n",
    "\n",
    "# Extract the stratified sample from the DataFrame\n",
    "stratified_sample = df.loc[indices[0]]"
   ]
  },
  {
   "cell_type": "code",
   "execution_count": 11,
   "metadata": {
    "execution": {
     "iopub.execute_input": "2023-05-23T19:46:43.218391Z",
     "iopub.status.busy": "2023-05-23T19:46:43.217531Z",
     "iopub.status.idle": "2023-05-23T19:46:43.230855Z",
     "shell.execute_reply": "2023-05-23T19:46:43.229258Z",
     "shell.execute_reply.started": "2023-05-23T19:46:43.218332Z"
    },
    "tags": []
   },
   "outputs": [
    {
     "data": {
      "text/plain": [
       "(6489062, 44)"
      ]
     },
     "execution_count": 11,
     "metadata": {},
     "output_type": "execute_result"
    }
   ],
   "source": [
    "df.shape"
   ]
  },
  {
   "cell_type": "code",
   "execution_count": 50,
   "metadata": {
    "execution": {
     "iopub.execute_input": "2023-05-18T13:34:01.061928Z",
     "iopub.status.busy": "2023-05-18T13:34:01.061072Z",
     "iopub.status.idle": "2023-05-18T13:34:01.075030Z",
     "shell.execute_reply": "2023-05-18T13:34:01.074140Z",
     "shell.execute_reply.started": "2023-05-18T13:34:01.061871Z"
    },
    "tags": []
   },
   "outputs": [
    {
     "data": {
      "text/plain": [
       "DEP_DEL15\n",
       "0    81086\n",
       "1    18914\n",
       "Name: count, dtype: int64"
      ]
     },
     "execution_count": 50,
     "metadata": {},
     "output_type": "execute_result"
    }
   ],
   "source": [
    "stratified_sample['DEP_DEL15'].value_counts()"
   ]
  },
  {
   "cell_type": "code",
   "execution_count": 51,
   "metadata": {
    "execution": {
     "iopub.execute_input": "2023-05-18T13:34:16.383556Z",
     "iopub.status.busy": "2023-05-18T13:34:16.382684Z",
     "iopub.status.idle": "2023-05-18T13:34:16.460940Z",
     "shell.execute_reply": "2023-05-18T13:34:16.460159Z",
     "shell.execute_reply.started": "2023-05-18T13:34:16.383498Z"
    },
    "tags": []
   },
   "outputs": [],
   "source": [
    "stratified_sample.to_pickle('./Datasets/flight_dataset_sample_small.pkl')"
   ]
  },
  {
   "cell_type": "markdown",
   "metadata": {},
   "source": [
    "Future importing of full dataset and sample"
   ]
  },
  {
   "cell_type": "code",
   "execution_count": 12,
   "metadata": {
    "execution": {
     "iopub.execute_input": "2023-05-23T19:49:37.609474Z",
     "iopub.status.busy": "2023-05-23T19:49:37.608586Z",
     "iopub.status.idle": "2023-05-23T19:49:37.710459Z",
     "shell.execute_reply": "2023-05-23T19:49:37.709557Z",
     "shell.execute_reply.started": "2023-05-23T19:49:37.609403Z"
    },
    "tags": []
   },
   "outputs": [],
   "source": [
    "# df = pd.read_pickle('./Datasets/flight_dataset_ml.pkl')\n",
    "# df_sample = pd.read_pickle('./Datasets/flight_dataset_sample.pkl')\n",
    "df_sample = pd.read_pickle('./Datasets/flight_dataset_sample_small.pkl')\n",
    "#df = pd.read_pickle('./Datasets/flight_dataset.pkl')"
   ]
  },
  {
   "cell_type": "code",
   "execution_count": 13,
   "metadata": {
    "execution": {
     "iopub.execute_input": "2023-05-23T19:49:42.578206Z",
     "iopub.status.busy": "2023-05-23T19:49:42.577367Z",
     "iopub.status.idle": "2023-05-23T19:49:42.589172Z",
     "shell.execute_reply": "2023-05-23T19:49:42.587508Z",
     "shell.execute_reply.started": "2023-05-23T19:49:42.578123Z"
    },
    "tags": []
   },
   "outputs": [
    {
     "data": {
      "text/plain": [
       "(100000, 26)"
      ]
     },
     "execution_count": 13,
     "metadata": {},
     "output_type": "execute_result"
    }
   ],
   "source": [
    "df_sample.shape"
   ]
  },
  {
   "cell_type": "markdown",
   "metadata": {},
   "source": [
    "Generate ydata report"
   ]
  },
  {
   "cell_type": "code",
   "execution_count": null,
   "metadata": {},
   "outputs": [],
   "source": [
    "from ydata_profiling import ProfileReport\n",
    "\n",
    "report = ProfileReport(stratified_sample, title=\"Flight Report (Sample)\")\n",
    "\n",
    "report.to_file('report.html')"
   ]
  },
  {
   "cell_type": "markdown",
   "metadata": {},
   "source": [
    "### Exploring Data"
   ]
  },
  {
   "cell_type": "code",
   "execution_count": 32,
   "metadata": {
    "execution": {
     "iopub.execute_input": "2023-05-17T14:01:24.370632Z",
     "iopub.status.busy": "2023-05-17T14:01:24.369827Z",
     "iopub.status.idle": "2023-05-17T14:01:24.397365Z",
     "shell.execute_reply": "2023-05-17T14:01:24.396065Z",
     "shell.execute_reply.started": "2023-05-17T14:01:24.370570Z"
    },
    "tags": []
   },
   "outputs": [
    {
     "data": {
      "text/html": [
       "<div>\n",
       "<style scoped>\n",
       "    .dataframe tbody tr th:only-of-type {\n",
       "        vertical-align: middle;\n",
       "    }\n",
       "\n",
       "    .dataframe tbody tr th {\n",
       "        vertical-align: top;\n",
       "    }\n",
       "\n",
       "    .dataframe thead th {\n",
       "        text-align: right;\n",
       "    }\n",
       "</style>\n",
       "<table border=\"1\" class=\"dataframe\">\n",
       "  <thead>\n",
       "    <tr style=\"text-align: right;\">\n",
       "      <th></th>\n",
       "      <th>MONTH</th>\n",
       "      <th>DAY_OF_WEEK</th>\n",
       "      <th>TAIL_NUM</th>\n",
       "      <th>DEST_AIRPORT_ID</th>\n",
       "      <th>DEP_DEL15</th>\n",
       "      <th>DEP_TIME_BLK</th>\n",
       "      <th>ARR_TIME_BLK</th>\n",
       "      <th>DISTANCE_GROUP</th>\n",
       "      <th>CONCURRENT_FLIGHTS</th>\n",
       "      <th>NUMBER_OF_SEATS</th>\n",
       "      <th>CARRIER_NAME</th>\n",
       "      <th>AIRPORT_FLIGHTS_MONTH</th>\n",
       "      <th>AIRLINE_FLIGHTS_MONTH</th>\n",
       "      <th>AIRLINE_AIRPORT_FLIGHTS_MONTH</th>\n",
       "      <th>AVG_MONTHLY_PASS_AIRPORT</th>\n",
       "      <th>AVG_MONTHLY_PASS_AIRLINE</th>\n",
       "      <th>FLT_ATTENDANTS_PER_PASS</th>\n",
       "      <th>GROUND_SERV_PER_PASS</th>\n",
       "      <th>PLANE_AGE</th>\n",
       "      <th>DEPARTING_AIRPORT</th>\n",
       "      <th>PREVIOUS_AIRPORT</th>\n",
       "      <th>PRCP</th>\n",
       "      <th>SNOW</th>\n",
       "      <th>SNWD</th>\n",
       "      <th>TMAX</th>\n",
       "      <th>AWND</th>\n",
       "    </tr>\n",
       "  </thead>\n",
       "  <tbody>\n",
       "    <tr>\n",
       "      <th>0</th>\n",
       "      <td>1</td>\n",
       "      <td>7</td>\n",
       "      <td>N958WN</td>\n",
       "      <td>14679</td>\n",
       "      <td>0</td>\n",
       "      <td>0800-0859</td>\n",
       "      <td>0900-0959</td>\n",
       "      <td>2</td>\n",
       "      <td>25</td>\n",
       "      <td>143</td>\n",
       "      <td>Southwest Airlines Co.</td>\n",
       "      <td>13056</td>\n",
       "      <td>107363</td>\n",
       "      <td>5873</td>\n",
       "      <td>1903352</td>\n",
       "      <td>13382999</td>\n",
       "      <td>0.00</td>\n",
       "      <td>0.00</td>\n",
       "      <td>8</td>\n",
       "      <td>McCarran International</td>\n",
       "      <td>NONE</td>\n",
       "      <td>0.00</td>\n",
       "      <td>0.00</td>\n",
       "      <td>0.00</td>\n",
       "      <td>65.00</td>\n",
       "      <td>2.91</td>\n",
       "    </tr>\n",
       "    <tr>\n",
       "      <th>1</th>\n",
       "      <td>1</td>\n",
       "      <td>7</td>\n",
       "      <td>N309DN</td>\n",
       "      <td>10397</td>\n",
       "      <td>0</td>\n",
       "      <td>0700-0759</td>\n",
       "      <td>1400-1459</td>\n",
       "      <td>7</td>\n",
       "      <td>29</td>\n",
       "      <td>191</td>\n",
       "      <td>Delta Air Lines Inc.</td>\n",
       "      <td>13056</td>\n",
       "      <td>73508</td>\n",
       "      <td>1174</td>\n",
       "      <td>1903352</td>\n",
       "      <td>12460183</td>\n",
       "      <td>0.00</td>\n",
       "      <td>0.00</td>\n",
       "      <td>3</td>\n",
       "      <td>McCarran International</td>\n",
       "      <td>NONE</td>\n",
       "      <td>0.00</td>\n",
       "      <td>0.00</td>\n",
       "      <td>0.00</td>\n",
       "      <td>65.00</td>\n",
       "      <td>2.91</td>\n",
       "    </tr>\n",
       "    <tr>\n",
       "      <th>2</th>\n",
       "      <td>1</td>\n",
       "      <td>7</td>\n",
       "      <td>N67171</td>\n",
       "      <td>10397</td>\n",
       "      <td>0</td>\n",
       "      <td>0600-0659</td>\n",
       "      <td>1200-1259</td>\n",
       "      <td>7</td>\n",
       "      <td>27</td>\n",
       "      <td>199</td>\n",
       "      <td>Delta Air Lines Inc.</td>\n",
       "      <td>13056</td>\n",
       "      <td>73508</td>\n",
       "      <td>1174</td>\n",
       "      <td>1903352</td>\n",
       "      <td>12460183</td>\n",
       "      <td>0.00</td>\n",
       "      <td>0.00</td>\n",
       "      <td>18</td>\n",
       "      <td>McCarran International</td>\n",
       "      <td>NONE</td>\n",
       "      <td>0.00</td>\n",
       "      <td>0.00</td>\n",
       "      <td>0.00</td>\n",
       "      <td>65.00</td>\n",
       "      <td>2.91</td>\n",
       "    </tr>\n",
       "    <tr>\n",
       "      <th>3</th>\n",
       "      <td>1</td>\n",
       "      <td>7</td>\n",
       "      <td>N884DN</td>\n",
       "      <td>12478</td>\n",
       "      <td>0</td>\n",
       "      <td>0600-0659</td>\n",
       "      <td>1300-1359</td>\n",
       "      <td>9</td>\n",
       "      <td>27</td>\n",
       "      <td>180</td>\n",
       "      <td>Delta Air Lines Inc.</td>\n",
       "      <td>13056</td>\n",
       "      <td>73508</td>\n",
       "      <td>1174</td>\n",
       "      <td>1903352</td>\n",
       "      <td>12460183</td>\n",
       "      <td>0.00</td>\n",
       "      <td>0.00</td>\n",
       "      <td>2</td>\n",
       "      <td>McCarran International</td>\n",
       "      <td>NONE</td>\n",
       "      <td>0.00</td>\n",
       "      <td>0.00</td>\n",
       "      <td>0.00</td>\n",
       "      <td>65.00</td>\n",
       "      <td>2.91</td>\n",
       "    </tr>\n",
       "    <tr>\n",
       "      <th>4</th>\n",
       "      <td>1</td>\n",
       "      <td>7</td>\n",
       "      <td>N910NK</td>\n",
       "      <td>13930</td>\n",
       "      <td>0</td>\n",
       "      <td>0001-0559</td>\n",
       "      <td>0600-0659</td>\n",
       "      <td>7</td>\n",
       "      <td>10</td>\n",
       "      <td>182</td>\n",
       "      <td>Spirit Air Lines</td>\n",
       "      <td>13056</td>\n",
       "      <td>15023</td>\n",
       "      <td>1257</td>\n",
       "      <td>1903352</td>\n",
       "      <td>2688839</td>\n",
       "      <td>0.00</td>\n",
       "      <td>0.00</td>\n",
       "      <td>1</td>\n",
       "      <td>McCarran International</td>\n",
       "      <td>NONE</td>\n",
       "      <td>0.00</td>\n",
       "      <td>0.00</td>\n",
       "      <td>0.00</td>\n",
       "      <td>65.00</td>\n",
       "      <td>2.91</td>\n",
       "    </tr>\n",
       "  </tbody>\n",
       "</table>\n",
       "</div>"
      ],
      "text/plain": [
       "  MONTH DAY_OF_WEEK TAIL_NUM  DEST_AIRPORT_ID  DEP_DEL15 DEP_TIME_BLK   \n",
       "0     1           7   N958WN            14679          0    0800-0859  \\\n",
       "1     1           7   N309DN            10397          0    0700-0759   \n",
       "2     1           7   N67171            10397          0    0600-0659   \n",
       "3     1           7   N884DN            12478          0    0600-0659   \n",
       "4     1           7   N910NK            13930          0    0001-0559   \n",
       "\n",
       "  ARR_TIME_BLK  DISTANCE_GROUP  CONCURRENT_FLIGHTS  NUMBER_OF_SEATS   \n",
       "0    0900-0959               2                  25              143  \\\n",
       "1    1400-1459               7                  29              191   \n",
       "2    1200-1259               7                  27              199   \n",
       "3    1300-1359               9                  27              180   \n",
       "4    0600-0659               7                  10              182   \n",
       "\n",
       "             CARRIER_NAME  AIRPORT_FLIGHTS_MONTH  AIRLINE_FLIGHTS_MONTH   \n",
       "0  Southwest Airlines Co.                  13056                 107363  \\\n",
       "1    Delta Air Lines Inc.                  13056                  73508   \n",
       "2    Delta Air Lines Inc.                  13056                  73508   \n",
       "3    Delta Air Lines Inc.                  13056                  73508   \n",
       "4        Spirit Air Lines                  13056                  15023   \n",
       "\n",
       "   AIRLINE_AIRPORT_FLIGHTS_MONTH  AVG_MONTHLY_PASS_AIRPORT   \n",
       "0                           5873                   1903352  \\\n",
       "1                           1174                   1903352   \n",
       "2                           1174                   1903352   \n",
       "3                           1174                   1903352   \n",
       "4                           1257                   1903352   \n",
       "\n",
       "   AVG_MONTHLY_PASS_AIRLINE  FLT_ATTENDANTS_PER_PASS  GROUND_SERV_PER_PASS   \n",
       "0                  13382999                     0.00                  0.00  \\\n",
       "1                  12460183                     0.00                  0.00   \n",
       "2                  12460183                     0.00                  0.00   \n",
       "3                  12460183                     0.00                  0.00   \n",
       "4                   2688839                     0.00                  0.00   \n",
       "\n",
       "   PLANE_AGE       DEPARTING_AIRPORT PREVIOUS_AIRPORT  PRCP  SNOW  SNWD  TMAX   \n",
       "0          8  McCarran International             NONE  0.00  0.00  0.00 65.00  \\\n",
       "1          3  McCarran International             NONE  0.00  0.00  0.00 65.00   \n",
       "2         18  McCarran International             NONE  0.00  0.00  0.00 65.00   \n",
       "3          2  McCarran International             NONE  0.00  0.00  0.00 65.00   \n",
       "4          1  McCarran International             NONE  0.00  0.00  0.00 65.00   \n",
       "\n",
       "   AWND  \n",
       "0  2.91  \n",
       "1  2.91  \n",
       "2  2.91  \n",
       "3  2.91  \n",
       "4  2.91  "
      ]
     },
     "execution_count": 32,
     "metadata": {},
     "output_type": "execute_result"
    }
   ],
   "source": [
    "df.head()"
   ]
  },
  {
   "cell_type": "code",
   "execution_count": 40,
   "metadata": {},
   "outputs": [
    {
     "data": {
      "text/plain": [
       "Index(['MONTH', 'DAY_OF_WEEK', 'TAIL_NUM', 'DEST_AIRPORT_ID', 'DEP_DEL15',\n",
       "       'DEP_TIME_BLK', 'ARR_TIME_BLK', 'DISTANCE_GROUP', 'CONCURRENT_FLIGHTS',\n",
       "       'NUMBER_OF_SEATS', 'CARRIER_NAME', 'AIRPORT_FLIGHTS_MONTH',\n",
       "       'AIRLINE_FLIGHTS_MONTH', 'AIRLINE_AIRPORT_FLIGHTS_MONTH',\n",
       "       'AVG_MONTHLY_PASS_AIRPORT', 'AVG_MONTHLY_PASS_AIRLINE',\n",
       "       'FLT_ATTENDANTS_PER_PASS', 'GROUND_SERV_PER_PASS', 'PLANE_AGE',\n",
       "       'DEPARTING_AIRPORT', 'PREVIOUS_AIRPORT', 'PRCP', 'SNOW', 'SNWD', 'TMAX',\n",
       "       'AWND'],\n",
       "      dtype='object')"
      ]
     },
     "execution_count": 40,
     "metadata": {},
     "output_type": "execute_result"
    }
   ],
   "source": [
    "df.columns"
   ]
  },
  {
   "cell_type": "markdown",
   "metadata": {},
   "source": [
    "### General Info about Data"
   ]
  },
  {
   "cell_type": "code",
   "execution_count": 41,
   "metadata": {},
   "outputs": [
    {
     "name": "stdout",
     "output_type": "stream",
     "text": [
      "The dataset contains 26 columns and 6,489,062 rows.\n"
     ]
    }
   ],
   "source": [
    "# Shape of the dataset\n",
    "print(f'The dataset contains {df.shape[1]} columns and {df.shape[0]:,.0f} rows.')"
   ]
  },
  {
   "cell_type": "code",
   "execution_count": 42,
   "metadata": {},
   "outputs": [
    {
     "data": {
      "text/plain": [
       "0    5261694\n",
       "1    1227368\n",
       "Name: DEP_DEL15, dtype: int64"
      ]
     },
     "execution_count": 42,
     "metadata": {},
     "output_type": "execute_result"
    }
   ],
   "source": [
    "# Target Value - Spread\n",
    "df['DEP_DEL15'].value_counts()"
   ]
  },
  {
   "cell_type": "code",
   "execution_count": 43,
   "metadata": {},
   "outputs": [
    {
     "data": {
      "text/html": [
       "<div>\n",
       "<style scoped>\n",
       "    .dataframe tbody tr th:only-of-type {\n",
       "        vertical-align: middle;\n",
       "    }\n",
       "\n",
       "    .dataframe tbody tr th {\n",
       "        vertical-align: top;\n",
       "    }\n",
       "\n",
       "    .dataframe thead th {\n",
       "        text-align: right;\n",
       "    }\n",
       "</style>\n",
       "<table border=\"1\" class=\"dataframe\">\n",
       "  <thead>\n",
       "    <tr style=\"text-align: right;\">\n",
       "      <th></th>\n",
       "      <th>DEST_AIRPORT_ID</th>\n",
       "      <th>DEP_DEL15</th>\n",
       "      <th>DISTANCE_GROUP</th>\n",
       "      <th>CONCURRENT_FLIGHTS</th>\n",
       "      <th>NUMBER_OF_SEATS</th>\n",
       "      <th>AIRPORT_FLIGHTS_MONTH</th>\n",
       "      <th>AIRLINE_FLIGHTS_MONTH</th>\n",
       "      <th>AIRLINE_AIRPORT_FLIGHTS_MONTH</th>\n",
       "      <th>AVG_MONTHLY_PASS_AIRPORT</th>\n",
       "      <th>AVG_MONTHLY_PASS_AIRLINE</th>\n",
       "      <th>FLT_ATTENDANTS_PER_PASS</th>\n",
       "      <th>GROUND_SERV_PER_PASS</th>\n",
       "      <th>PLANE_AGE</th>\n",
       "      <th>PRCP</th>\n",
       "      <th>SNOW</th>\n",
       "      <th>SNWD</th>\n",
       "      <th>TMAX</th>\n",
       "      <th>AWND</th>\n",
       "    </tr>\n",
       "  </thead>\n",
       "  <tbody>\n",
       "    <tr>\n",
       "      <th>count</th>\n",
       "      <td>6489062.00</td>\n",
       "      <td>6489062.00</td>\n",
       "      <td>6489062.00</td>\n",
       "      <td>6489062.00</td>\n",
       "      <td>6489062.00</td>\n",
       "      <td>6489062.00</td>\n",
       "      <td>6489062.00</td>\n",
       "      <td>6489062.00</td>\n",
       "      <td>6489062.00</td>\n",
       "      <td>6489062.00</td>\n",
       "      <td>6489062.00</td>\n",
       "      <td>6489062.00</td>\n",
       "      <td>6489062.00</td>\n",
       "      <td>6489062.00</td>\n",
       "      <td>6489062.00</td>\n",
       "      <td>6489062.00</td>\n",
       "      <td>6489062.00</td>\n",
       "      <td>6489062.00</td>\n",
       "    </tr>\n",
       "    <tr>\n",
       "      <th>mean</th>\n",
       "      <td>12695.74</td>\n",
       "      <td>0.19</td>\n",
       "      <td>3.82</td>\n",
       "      <td>27.84</td>\n",
       "      <td>133.74</td>\n",
       "      <td>12684.58</td>\n",
       "      <td>62960.58</td>\n",
       "      <td>3459.25</td>\n",
       "      <td>1588638.53</td>\n",
       "      <td>7814970.00</td>\n",
       "      <td>0.00</td>\n",
       "      <td>0.00</td>\n",
       "      <td>11.53</td>\n",
       "      <td>0.10</td>\n",
       "      <td>0.03</td>\n",
       "      <td>0.09</td>\n",
       "      <td>71.47</td>\n",
       "      <td>8.34</td>\n",
       "    </tr>\n",
       "    <tr>\n",
       "      <th>std</th>\n",
       "      <td>1523.01</td>\n",
       "      <td>0.39</td>\n",
       "      <td>2.38</td>\n",
       "      <td>21.51</td>\n",
       "      <td>46.45</td>\n",
       "      <td>8839.80</td>\n",
       "      <td>34382.23</td>\n",
       "      <td>4251.14</td>\n",
       "      <td>1123847.25</td>\n",
       "      <td>5046881.55</td>\n",
       "      <td>0.00</td>\n",
       "      <td>0.00</td>\n",
       "      <td>6.94</td>\n",
       "      <td>0.34</td>\n",
       "      <td>0.32</td>\n",
       "      <td>0.73</td>\n",
       "      <td>18.35</td>\n",
       "      <td>3.61</td>\n",
       "    </tr>\n",
       "    <tr>\n",
       "      <th>min</th>\n",
       "      <td>10135.00</td>\n",
       "      <td>0.00</td>\n",
       "      <td>1.00</td>\n",
       "      <td>1.00</td>\n",
       "      <td>44.00</td>\n",
       "      <td>1100.00</td>\n",
       "      <td>5582.00</td>\n",
       "      <td>1.00</td>\n",
       "      <td>70476.00</td>\n",
       "      <td>473794.00</td>\n",
       "      <td>0.00</td>\n",
       "      <td>0.00</td>\n",
       "      <td>0.00</td>\n",
       "      <td>0.00</td>\n",
       "      <td>0.00</td>\n",
       "      <td>0.00</td>\n",
       "      <td>-10.00</td>\n",
       "      <td>0.00</td>\n",
       "    </tr>\n",
       "    <tr>\n",
       "      <th>25%</th>\n",
       "      <td>11292.00</td>\n",
       "      <td>0.00</td>\n",
       "      <td>2.00</td>\n",
       "      <td>11.00</td>\n",
       "      <td>90.00</td>\n",
       "      <td>5345.00</td>\n",
       "      <td>25034.00</td>\n",
       "      <td>654.00</td>\n",
       "      <td>673221.00</td>\n",
       "      <td>2688839.00</td>\n",
       "      <td>0.00</td>\n",
       "      <td>0.00</td>\n",
       "      <td>5.00</td>\n",
       "      <td>0.00</td>\n",
       "      <td>0.00</td>\n",
       "      <td>0.00</td>\n",
       "      <td>59.00</td>\n",
       "      <td>5.82</td>\n",
       "    </tr>\n",
       "    <tr>\n",
       "      <th>50%</th>\n",
       "      <td>12889.00</td>\n",
       "      <td>0.00</td>\n",
       "      <td>3.00</td>\n",
       "      <td>23.00</td>\n",
       "      <td>143.00</td>\n",
       "      <td>11562.00</td>\n",
       "      <td>70878.00</td>\n",
       "      <td>2251.00</td>\n",
       "      <td>1486066.00</td>\n",
       "      <td>8501631.00</td>\n",
       "      <td>0.00</td>\n",
       "      <td>0.00</td>\n",
       "      <td>12.00</td>\n",
       "      <td>0.00</td>\n",
       "      <td>0.00</td>\n",
       "      <td>0.00</td>\n",
       "      <td>74.00</td>\n",
       "      <td>7.83</td>\n",
       "    </tr>\n",
       "    <tr>\n",
       "      <th>75%</th>\n",
       "      <td>14057.00</td>\n",
       "      <td>0.00</td>\n",
       "      <td>5.00</td>\n",
       "      <td>39.00</td>\n",
       "      <td>172.00</td>\n",
       "      <td>17615.00</td>\n",
       "      <td>86312.00</td>\n",
       "      <td>4806.00</td>\n",
       "      <td>2006675.00</td>\n",
       "      <td>12460183.00</td>\n",
       "      <td>0.00</td>\n",
       "      <td>0.00</td>\n",
       "      <td>17.00</td>\n",
       "      <td>0.02</td>\n",
       "      <td>0.00</td>\n",
       "      <td>0.00</td>\n",
       "      <td>86.00</td>\n",
       "      <td>10.29</td>\n",
       "    </tr>\n",
       "    <tr>\n",
       "      <th>max</th>\n",
       "      <td>16869.00</td>\n",
       "      <td>1.00</td>\n",
       "      <td>11.00</td>\n",
       "      <td>109.00</td>\n",
       "      <td>337.00</td>\n",
       "      <td>35256.00</td>\n",
       "      <td>117728.00</td>\n",
       "      <td>21837.00</td>\n",
       "      <td>4365661.00</td>\n",
       "      <td>13382999.00</td>\n",
       "      <td>0.00</td>\n",
       "      <td>0.00</td>\n",
       "      <td>32.00</td>\n",
       "      <td>11.63</td>\n",
       "      <td>17.20</td>\n",
       "      <td>25.20</td>\n",
       "      <td>115.00</td>\n",
       "      <td>33.78</td>\n",
       "    </tr>\n",
       "  </tbody>\n",
       "</table>\n",
       "</div>"
      ],
      "text/plain": [
       "       DEST_AIRPORT_ID  DEP_DEL15  DISTANCE_GROUP  CONCURRENT_FLIGHTS  \\\n",
       "count       6489062.00 6489062.00      6489062.00          6489062.00   \n",
       "mean          12695.74       0.19            3.82               27.84   \n",
       "std            1523.01       0.39            2.38               21.51   \n",
       "min           10135.00       0.00            1.00                1.00   \n",
       "25%           11292.00       0.00            2.00               11.00   \n",
       "50%           12889.00       0.00            3.00               23.00   \n",
       "75%           14057.00       0.00            5.00               39.00   \n",
       "max           16869.00       1.00           11.00              109.00   \n",
       "\n",
       "       NUMBER_OF_SEATS  AIRPORT_FLIGHTS_MONTH  AIRLINE_FLIGHTS_MONTH  \\\n",
       "count       6489062.00             6489062.00             6489062.00   \n",
       "mean            133.74               12684.58               62960.58   \n",
       "std              46.45                8839.80               34382.23   \n",
       "min              44.00                1100.00                5582.00   \n",
       "25%              90.00                5345.00               25034.00   \n",
       "50%             143.00               11562.00               70878.00   \n",
       "75%             172.00               17615.00               86312.00   \n",
       "max             337.00               35256.00              117728.00   \n",
       "\n",
       "       AIRLINE_AIRPORT_FLIGHTS_MONTH  AVG_MONTHLY_PASS_AIRPORT  \\\n",
       "count                     6489062.00                6489062.00   \n",
       "mean                         3459.25                1588638.53   \n",
       "std                          4251.14                1123847.25   \n",
       "min                             1.00                  70476.00   \n",
       "25%                           654.00                 673221.00   \n",
       "50%                          2251.00                1486066.00   \n",
       "75%                          4806.00                2006675.00   \n",
       "max                         21837.00                4365661.00   \n",
       "\n",
       "       AVG_MONTHLY_PASS_AIRLINE  FLT_ATTENDANTS_PER_PASS  \\\n",
       "count                6489062.00               6489062.00   \n",
       "mean                 7814970.00                     0.00   \n",
       "std                  5046881.55                     0.00   \n",
       "min                   473794.00                     0.00   \n",
       "25%                  2688839.00                     0.00   \n",
       "50%                  8501631.00                     0.00   \n",
       "75%                 12460183.00                     0.00   \n",
       "max                 13382999.00                     0.00   \n",
       "\n",
       "       GROUND_SERV_PER_PASS  PLANE_AGE       PRCP       SNOW       SNWD  \\\n",
       "count            6489062.00 6489062.00 6489062.00 6489062.00 6489062.00   \n",
       "mean                   0.00      11.53       0.10       0.03       0.09   \n",
       "std                    0.00       6.94       0.34       0.32       0.73   \n",
       "min                    0.00       0.00       0.00       0.00       0.00   \n",
       "25%                    0.00       5.00       0.00       0.00       0.00   \n",
       "50%                    0.00      12.00       0.00       0.00       0.00   \n",
       "75%                    0.00      17.00       0.02       0.00       0.00   \n",
       "max                    0.00      32.00      11.63      17.20      25.20   \n",
       "\n",
       "            TMAX       AWND  \n",
       "count 6489062.00 6489062.00  \n",
       "mean       71.47       8.34  \n",
       "std        18.35       3.61  \n",
       "min       -10.00       0.00  \n",
       "25%        59.00       5.82  \n",
       "50%        74.00       7.83  \n",
       "75%        86.00      10.29  \n",
       "max       115.00      33.78  "
      ]
     },
     "execution_count": 43,
     "metadata": {},
     "output_type": "execute_result"
    }
   ],
   "source": [
    "# Standard Statistical Measures\n",
    "df.describe()"
   ]
  },
  {
   "cell_type": "code",
   "execution_count": 44,
   "metadata": {},
   "outputs": [
    {
     "data": {
      "text/plain": [
       "MONTH                            0\n",
       "DAY_OF_WEEK                      0\n",
       "TAIL_NUM                         0\n",
       "DEST_AIRPORT_ID                  0\n",
       "DEP_DEL15                        0\n",
       "DEP_TIME_BLK                     0\n",
       "ARR_TIME_BLK                     0\n",
       "DISTANCE_GROUP                   0\n",
       "CONCURRENT_FLIGHTS               0\n",
       "NUMBER_OF_SEATS                  0\n",
       "CARRIER_NAME                     0\n",
       "AIRPORT_FLIGHTS_MONTH            0\n",
       "AIRLINE_FLIGHTS_MONTH            0\n",
       "AIRLINE_AIRPORT_FLIGHTS_MONTH    0\n",
       "AVG_MONTHLY_PASS_AIRPORT         0\n",
       "AVG_MONTHLY_PASS_AIRLINE         0\n",
       "FLT_ATTENDANTS_PER_PASS          0\n",
       "GROUND_SERV_PER_PASS             0\n",
       "PLANE_AGE                        0\n",
       "DEPARTING_AIRPORT                0\n",
       "PREVIOUS_AIRPORT                 0\n",
       "PRCP                             0\n",
       "SNOW                             0\n",
       "SNWD                             0\n",
       "TMAX                             0\n",
       "AWND                             0\n",
       "dtype: int64"
      ]
     },
     "execution_count": 44,
     "metadata": {},
     "output_type": "execute_result"
    }
   ],
   "source": [
    "# NaN Values\n",
    "df.isna().sum()"
   ]
  },
  {
   "cell_type": "code",
   "execution_count": 46,
   "metadata": {
    "execution": {
     "iopub.execute_input": "2023-05-17T19:59:00.221378Z",
     "iopub.status.busy": "2023-05-17T19:59:00.220550Z",
     "iopub.status.idle": "2023-05-17T19:59:00.235159Z",
     "shell.execute_reply": "2023-05-17T19:59:00.233573Z",
     "shell.execute_reply.started": "2023-05-17T19:59:00.221312Z"
    },
    "tags": []
   },
   "outputs": [
    {
     "data": {
      "text/plain": [
       "MONTH                             object\n",
       "DAY_OF_WEEK                       object\n",
       "TAIL_NUM                          object\n",
       "DEST_AIRPORT_ID                    int64\n",
       "DEP_DEL15                           int8\n",
       "DEP_TIME_BLK                      object\n",
       "ARR_TIME_BLK                      object\n",
       "DISTANCE_GROUP                      int8\n",
       "CONCURRENT_FLIGHTS                 int64\n",
       "NUMBER_OF_SEATS                    int16\n",
       "CARRIER_NAME                      object\n",
       "AIRPORT_FLIGHTS_MONTH              int64\n",
       "AIRLINE_FLIGHTS_MONTH              int64\n",
       "AIRLINE_AIRPORT_FLIGHTS_MONTH      int64\n",
       "AVG_MONTHLY_PASS_AIRPORT           int64\n",
       "AVG_MONTHLY_PASS_AIRLINE           int64\n",
       "FLT_ATTENDANTS_PER_PASS          float64\n",
       "GROUND_SERV_PER_PASS             float64\n",
       "PLANE_AGE                          int32\n",
       "DEPARTING_AIRPORT                 object\n",
       "PREVIOUS_AIRPORT                  object\n",
       "PRCP                             float64\n",
       "SNOW                             float64\n",
       "SNWD                             float64\n",
       "TMAX                             float64\n",
       "AWND                             float64\n",
       "dtype: object"
      ]
     },
     "execution_count": 46,
     "metadata": {},
     "output_type": "execute_result"
    }
   ],
   "source": [
    "# Data Types\n",
    "df.dtypes"
   ]
  },
  {
   "cell_type": "code",
   "execution_count": 49,
   "metadata": {
    "execution": {
     "iopub.execute_input": "2023-05-17T20:12:43.040276Z",
     "iopub.status.busy": "2023-05-17T20:12:43.039659Z",
     "iopub.status.idle": "2023-05-17T20:12:43.051815Z",
     "shell.execute_reply": "2023-05-17T20:12:43.050703Z",
     "shell.execute_reply.started": "2023-05-17T20:12:43.040232Z"
    },
    "tags": []
   },
   "outputs": [
    {
     "data": {
      "text/plain": [
       "MONTH                              int64\n",
       "DAY_OF_WEEK                        int64\n",
       "TAIL_NUM                          object\n",
       "DEST_AIRPORT_ID                    int64\n",
       "DEP_DEL15                          int64\n",
       "DEP_TIME_BLK                      object\n",
       "ARR_TIME_BLK                      object\n",
       "DISTANCE_GROUP                     int64\n",
       "CONCURRENT_FLIGHTS                 int64\n",
       "NUMBER_OF_SEATS                    int64\n",
       "CARRIER_NAME                      object\n",
       "AIRPORT_FLIGHTS_MONTH              int64\n",
       "AIRLINE_FLIGHTS_MONTH              int64\n",
       "AIRLINE_AIRPORT_FLIGHTS_MONTH      int64\n",
       "AVG_MONTHLY_PASS_AIRPORT           int64\n",
       "AVG_MONTHLY_PASS_AIRLINE           int64\n",
       "FLT_ATTENDANTS_PER_PASS          float64\n",
       "GROUND_SERV_PER_PASS             float64\n",
       "PLANE_AGE                          int64\n",
       "DEPARTING_AIRPORT                 object\n",
       "PREVIOUS_AIRPORT                  object\n",
       "PRCP                             float64\n",
       "SNOW                             float64\n",
       "SNWD                             float64\n",
       "TMAX                             float64\n",
       "AWND                             float64\n",
       "dtype: object"
      ]
     },
     "execution_count": 49,
     "metadata": {},
     "output_type": "execute_result"
    }
   ],
   "source": [
    "df_sample.dtypes"
   ]
  },
  {
   "cell_type": "code",
   "execution_count": 50,
   "metadata": {
    "execution": {
     "iopub.execute_input": "2023-05-17T20:13:59.667813Z",
     "iopub.status.busy": "2023-05-17T20:13:59.667295Z",
     "iopub.status.idle": "2023-05-17T20:13:59.687257Z",
     "shell.execute_reply": "2023-05-17T20:13:59.685799Z",
     "shell.execute_reply.started": "2023-05-17T20:13:59.667785Z"
    },
    "tags": []
   },
   "outputs": [
    {
     "data": {
      "text/html": [
       "<div>\n",
       "<style scoped>\n",
       "    .dataframe tbody tr th:only-of-type {\n",
       "        vertical-align: middle;\n",
       "    }\n",
       "\n",
       "    .dataframe tbody tr th {\n",
       "        vertical-align: top;\n",
       "    }\n",
       "\n",
       "    .dataframe thead th {\n",
       "        text-align: right;\n",
       "    }\n",
       "</style>\n",
       "<table border=\"1\" class=\"dataframe\">\n",
       "  <thead>\n",
       "    <tr style=\"text-align: right;\">\n",
       "      <th></th>\n",
       "      <th>MONTH</th>\n",
       "      <th>DAY_OF_WEEK</th>\n",
       "      <th>TAIL_NUM</th>\n",
       "      <th>DEST_AIRPORT_ID</th>\n",
       "      <th>DEP_DEL15</th>\n",
       "      <th>DEP_TIME_BLK</th>\n",
       "      <th>ARR_TIME_BLK</th>\n",
       "      <th>DISTANCE_GROUP</th>\n",
       "      <th>CONCURRENT_FLIGHTS</th>\n",
       "      <th>NUMBER_OF_SEATS</th>\n",
       "      <th>CARRIER_NAME</th>\n",
       "      <th>AIRPORT_FLIGHTS_MONTH</th>\n",
       "      <th>AIRLINE_FLIGHTS_MONTH</th>\n",
       "      <th>AIRLINE_AIRPORT_FLIGHTS_MONTH</th>\n",
       "      <th>AVG_MONTHLY_PASS_AIRPORT</th>\n",
       "      <th>AVG_MONTHLY_PASS_AIRLINE</th>\n",
       "      <th>FLT_ATTENDANTS_PER_PASS</th>\n",
       "      <th>GROUND_SERV_PER_PASS</th>\n",
       "      <th>PLANE_AGE</th>\n",
       "      <th>DEPARTING_AIRPORT</th>\n",
       "      <th>PREVIOUS_AIRPORT</th>\n",
       "      <th>PRCP</th>\n",
       "      <th>SNOW</th>\n",
       "      <th>SNWD</th>\n",
       "      <th>TMAX</th>\n",
       "      <th>AWND</th>\n",
       "    </tr>\n",
       "  </thead>\n",
       "  <tbody>\n",
       "    <tr>\n",
       "      <th>2504636</th>\n",
       "      <td>5</td>\n",
       "      <td>3</td>\n",
       "      <td>N754SW</td>\n",
       "      <td>13796</td>\n",
       "      <td>0</td>\n",
       "      <td>0600-0659</td>\n",
       "      <td>0800-0859</td>\n",
       "      <td>3</td>\n",
       "      <td>27</td>\n",
       "      <td>143</td>\n",
       "      <td>Southwest Airlines Co.</td>\n",
       "      <td>12037</td>\n",
       "      <td>113709</td>\n",
       "      <td>924</td>\n",
       "      <td>1960746</td>\n",
       "      <td>13382999</td>\n",
       "      <td>0.00</td>\n",
       "      <td>0.00</td>\n",
       "      <td>20</td>\n",
       "      <td>Seattle International</td>\n",
       "      <td>NONE</td>\n",
       "      <td>0.00</td>\n",
       "      <td>0.00</td>\n",
       "      <td>0.00</td>\n",
       "      <td>75.00</td>\n",
       "      <td>7.61</td>\n",
       "    </tr>\n",
       "    <tr>\n",
       "      <th>4879868</th>\n",
       "      <td>10</td>\n",
       "      <td>7</td>\n",
       "      <td>N659BR</td>\n",
       "      <td>11267</td>\n",
       "      <td>0</td>\n",
       "      <td>2000-2059</td>\n",
       "      <td>2100-2159</td>\n",
       "      <td>1</td>\n",
       "      <td>65</td>\n",
       "      <td>50</td>\n",
       "      <td>SkyWest Airlines Inc.</td>\n",
       "      <td>14057</td>\n",
       "      <td>71625</td>\n",
       "      <td>4229</td>\n",
       "      <td>1486066</td>\n",
       "      <td>3472966</td>\n",
       "      <td>0.00</td>\n",
       "      <td>0.00</td>\n",
       "      <td>18</td>\n",
       "      <td>Detroit Metro Wayne County</td>\n",
       "      <td>State College Air Depot</td>\n",
       "      <td>0.00</td>\n",
       "      <td>0.00</td>\n",
       "      <td>0.00</td>\n",
       "      <td>69.00</td>\n",
       "      <td>1.79</td>\n",
       "    </tr>\n",
       "    <tr>\n",
       "      <th>5017284</th>\n",
       "      <td>10</td>\n",
       "      <td>2</td>\n",
       "      <td>N61887</td>\n",
       "      <td>12266</td>\n",
       "      <td>0</td>\n",
       "      <td>2100-2159</td>\n",
       "      <td>2300-2359</td>\n",
       "      <td>4</td>\n",
       "      <td>41</td>\n",
       "      <td>173</td>\n",
       "      <td>United Air Lines Inc.</td>\n",
       "      <td>29960</td>\n",
       "      <td>54923</td>\n",
       "      <td>7167</td>\n",
       "      <td>3103410</td>\n",
       "      <td>8501631</td>\n",
       "      <td>0.00</td>\n",
       "      <td>0.00</td>\n",
       "      <td>4</td>\n",
       "      <td>Chicago O'Hare International</td>\n",
       "      <td>Miami International</td>\n",
       "      <td>0.00</td>\n",
       "      <td>0.00</td>\n",
       "      <td>0.00</td>\n",
       "      <td>62.00</td>\n",
       "      <td>10.51</td>\n",
       "    </tr>\n",
       "    <tr>\n",
       "      <th>2371711</th>\n",
       "      <td>5</td>\n",
       "      <td>2</td>\n",
       "      <td>N53442</td>\n",
       "      <td>12953</td>\n",
       "      <td>1</td>\n",
       "      <td>1900-1959</td>\n",
       "      <td>2300-2359</td>\n",
       "      <td>6</td>\n",
       "      <td>23</td>\n",
       "      <td>173</td>\n",
       "      <td>United Air Lines Inc.</td>\n",
       "      <td>14978</td>\n",
       "      <td>53980</td>\n",
       "      <td>5205</td>\n",
       "      <td>1690031</td>\n",
       "      <td>8501631</td>\n",
       "      <td>0.00</td>\n",
       "      <td>0.00</td>\n",
       "      <td>10</td>\n",
       "      <td>Houston Intercontinental</td>\n",
       "      <td>San Francisco International</td>\n",
       "      <td>0.00</td>\n",
       "      <td>0.00</td>\n",
       "      <td>0.00</td>\n",
       "      <td>83.00</td>\n",
       "      <td>6.71</td>\n",
       "    </tr>\n",
       "    <tr>\n",
       "      <th>4663982</th>\n",
       "      <td>9</td>\n",
       "      <td>4</td>\n",
       "      <td>N918DU</td>\n",
       "      <td>13487</td>\n",
       "      <td>0</td>\n",
       "      <td>0800-0859</td>\n",
       "      <td>1000-1059</td>\n",
       "      <td>5</td>\n",
       "      <td>4</td>\n",
       "      <td>180</td>\n",
       "      <td>Delta Air Lines Inc.</td>\n",
       "      <td>2185</td>\n",
       "      <td>81338</td>\n",
       "      <td>422</td>\n",
       "      <td>270922</td>\n",
       "      <td>12460183</td>\n",
       "      <td>0.00</td>\n",
       "      <td>0.00</td>\n",
       "      <td>0</td>\n",
       "      <td>Bradley International</td>\n",
       "      <td>NONE</td>\n",
       "      <td>0.00</td>\n",
       "      <td>0.00</td>\n",
       "      <td>0.00</td>\n",
       "      <td>73.00</td>\n",
       "      <td>4.70</td>\n",
       "    </tr>\n",
       "  </tbody>\n",
       "</table>\n",
       "</div>"
      ],
      "text/plain": [
       "         MONTH  DAY_OF_WEEK TAIL_NUM  DEST_AIRPORT_ID  DEP_DEL15 DEP_TIME_BLK   \n",
       "2504636      5            3   N754SW            13796          0    0600-0659  \\\n",
       "4879868     10            7   N659BR            11267          0    2000-2059   \n",
       "5017284     10            2   N61887            12266          0    2100-2159   \n",
       "2371711      5            2   N53442            12953          1    1900-1959   \n",
       "4663982      9            4   N918DU            13487          0    0800-0859   \n",
       "\n",
       "        ARR_TIME_BLK  DISTANCE_GROUP  CONCURRENT_FLIGHTS  NUMBER_OF_SEATS   \n",
       "2504636    0800-0859               3                  27              143  \\\n",
       "4879868    2100-2159               1                  65               50   \n",
       "5017284    2300-2359               4                  41              173   \n",
       "2371711    2300-2359               6                  23              173   \n",
       "4663982    1000-1059               5                   4              180   \n",
       "\n",
       "                   CARRIER_NAME  AIRPORT_FLIGHTS_MONTH  AIRLINE_FLIGHTS_MONTH   \n",
       "2504636  Southwest Airlines Co.                  12037                 113709  \\\n",
       "4879868   SkyWest Airlines Inc.                  14057                  71625   \n",
       "5017284   United Air Lines Inc.                  29960                  54923   \n",
       "2371711   United Air Lines Inc.                  14978                  53980   \n",
       "4663982    Delta Air Lines Inc.                   2185                  81338   \n",
       "\n",
       "         AIRLINE_AIRPORT_FLIGHTS_MONTH  AVG_MONTHLY_PASS_AIRPORT   \n",
       "2504636                            924                   1960746  \\\n",
       "4879868                           4229                   1486066   \n",
       "5017284                           7167                   3103410   \n",
       "2371711                           5205                   1690031   \n",
       "4663982                            422                    270922   \n",
       "\n",
       "         AVG_MONTHLY_PASS_AIRLINE  FLT_ATTENDANTS_PER_PASS   \n",
       "2504636                  13382999                     0.00  \\\n",
       "4879868                   3472966                     0.00   \n",
       "5017284                   8501631                     0.00   \n",
       "2371711                   8501631                     0.00   \n",
       "4663982                  12460183                     0.00   \n",
       "\n",
       "         GROUND_SERV_PER_PASS  PLANE_AGE             DEPARTING_AIRPORT   \n",
       "2504636                  0.00         20         Seattle International  \\\n",
       "4879868                  0.00         18    Detroit Metro Wayne County   \n",
       "5017284                  0.00          4  Chicago O'Hare International   \n",
       "2371711                  0.00         10      Houston Intercontinental   \n",
       "4663982                  0.00          0         Bradley International   \n",
       "\n",
       "                    PREVIOUS_AIRPORT  PRCP  SNOW  SNWD  TMAX  AWND  \n",
       "2504636                         NONE  0.00  0.00  0.00 75.00  7.61  \n",
       "4879868      State College Air Depot  0.00  0.00  0.00 69.00  1.79  \n",
       "5017284          Miami International  0.00  0.00  0.00 62.00 10.51  \n",
       "2371711  San Francisco International  0.00  0.00  0.00 83.00  6.71  \n",
       "4663982                         NONE  0.00  0.00  0.00 73.00  4.70  "
      ]
     },
     "execution_count": 50,
     "metadata": {},
     "output_type": "execute_result"
    }
   ],
   "source": [
    "df_sample.head()"
   ]
  },
  {
   "cell_type": "markdown",
   "metadata": {},
   "source": [
    "### Visualizations"
   ]
  },
  {
   "cell_type": "code",
   "execution_count": 5,
   "metadata": {
    "execution": {
     "iopub.execute_input": "2023-05-23T15:05:41.572373Z",
     "iopub.status.busy": "2023-05-23T15:05:41.571551Z",
     "iopub.status.idle": "2023-05-23T15:05:41.596326Z",
     "shell.execute_reply": "2023-05-23T15:05:41.595517Z",
     "shell.execute_reply.started": "2023-05-23T15:05:41.572315Z"
    },
    "tags": []
   },
   "outputs": [],
   "source": [
    "# Getting only numeric columns from DF\n",
    "numerics = ['int8', 'int16', 'int32', 'int64', 'float16', 'float32', 'float64']\n",
    "numeric_df = df_sample.select_dtypes(include=numerics)"
   ]
  },
  {
   "cell_type": "code",
   "execution_count": 6,
   "metadata": {
    "execution": {
     "iopub.execute_input": "2023-05-23T15:05:43.920330Z",
     "iopub.status.busy": "2023-05-23T15:05:43.919502Z",
     "iopub.status.idle": "2023-05-23T15:05:44.008566Z",
     "shell.execute_reply": "2023-05-23T15:05:44.007735Z",
     "shell.execute_reply.started": "2023-05-23T15:05:43.920273Z"
    },
    "tags": []
   },
   "outputs": [],
   "source": [
    "# Calculating Correlations\n",
    "corr_df = numeric_df.corr()"
   ]
  },
  {
   "cell_type": "code",
   "execution_count": 8,
   "metadata": {
    "execution": {
     "iopub.execute_input": "2023-05-23T15:07:21.872555Z",
     "iopub.status.busy": "2023-05-23T15:07:21.871667Z",
     "iopub.status.idle": "2023-05-23T15:07:22.602404Z",
     "shell.execute_reply": "2023-05-23T15:07:22.601648Z",
     "shell.execute_reply.started": "2023-05-23T15:07:21.872495Z"
    },
    "tags": []
   },
   "outputs": [
    {
     "data": {
      "image/png": "[encoded data removed]",
      "text/plain": [
       "<Figure size 640x480 with 2 Axes>"
      ]
     },
     "metadata": {},
     "output_type": "display_data"
    }
   ],
   "source": [
    "sns.heatmap(corr_df, cmap='Blues')\n",
    "plt.savefig('correlation.png', bbox_inches='tight')\n"
   ]
  },
  {
   "cell_type": "code",
   "execution_count": 37,
   "metadata": {
    "execution": {
     "iopub.execute_input": "2023-05-17T14:02:21.385952Z",
     "iopub.status.busy": "2023-05-17T14:02:21.385254Z",
     "iopub.status.idle": "2023-05-17T14:02:21.398945Z",
     "shell.execute_reply": "2023-05-17T14:02:21.397334Z",
     "shell.execute_reply.started": "2023-05-17T14:02:21.385895Z"
    },
    "tags": []
   },
   "outputs": [
    {
     "data": {
      "text/plain": [
       "MONTH                           -0.02\n",
       "DAY_OF_WEEK                     -0.00\n",
       "DEST_AIRPORT_ID                  0.01\n",
       "DEP_DEL15                        1.00\n",
       "DISTANCE_GROUP                   0.01\n",
       "CONCURRENT_FLIGHTS               0.01\n",
       "NUMBER_OF_SEATS                  0.01\n",
       "AIRPORT_FLIGHTS_MONTH            0.03\n",
       "AIRLINE_FLIGHTS_MONTH            0.00\n",
       "AIRLINE_AIRPORT_FLIGHTS_MONTH    0.01\n",
       "AVG_MONTHLY_PASS_AIRPORT         0.02\n",
       "AVG_MONTHLY_PASS_AIRLINE         0.00\n",
       "FLT_ATTENDANTS_PER_PASS         -0.00\n",
       "GROUND_SERV_PER_PASS            -0.02\n",
       "PLANE_AGE                        0.01\n",
       "PRCP                             0.08\n",
       "SNOW                             0.05\n",
       "SNWD                             0.03\n",
       "TMAX                            -0.01\n",
       "AWND                             0.05\n",
       "Name: DEP_DEL15, dtype: float64"
      ]
     },
     "execution_count": 37,
     "metadata": {},
     "output_type": "execute_result"
    }
   ],
   "source": [
    "corr_df.loc['DEP_DEL15']"
   ]
  },
  {
   "cell_type": "code",
   "execution_count": null,
   "metadata": {
    "tags": []
   },
   "outputs": [],
   "source": [
    "sns.pairplot(numeric_df, hue=\"DEP_DEL15\", diag_kind=\"hist\")"
   ]
  },
  {
   "cell_type": "markdown",
   "metadata": {},
   "source": [
    "### Machine Learning"
   ]
  },
  {
   "cell_type": "code",
   "execution_count": 13,
   "metadata": {
    "execution": {
     "iopub.execute_input": "2023-05-19T10:01:14.849393Z",
     "iopub.status.busy": "2023-05-19T10:01:14.848783Z",
     "iopub.status.idle": "2023-05-19T10:01:16.193059Z",
     "shell.execute_reply": "2023-05-19T10:01:16.191782Z",
     "shell.execute_reply.started": "2023-05-19T10:01:14.849353Z"
    },
    "tags": []
   },
   "outputs": [],
   "source": [
    "# df_sample_enc = pd.get_dummies(df_sample, columns=['DEP_TIME_BLK', 'ARR_TIME_BLK'])\n",
    "\n",
    "df_sample_enc = pd.get_dummies(df_sample, columns=['DEP_TIME_BLK', 'ARR_TIME_BLK', 'TAIL_NUM', 'DEPARTING_AIRPORT', 'CARRIER_NAME', 'PREVIOUS_AIRPORT'])\n"
   ]
  },
  {
   "cell_type": "code",
   "execution_count": 14,
   "metadata": {
    "execution": {
     "iopub.execute_input": "2023-05-19T10:01:18.099958Z",
     "iopub.status.busy": "2023-05-19T10:01:18.099110Z",
     "iopub.status.idle": "2023-05-19T10:01:18.110422Z",
     "shell.execute_reply": "2023-05-19T10:01:18.108576Z",
     "shell.execute_reply.started": "2023-05-19T10:01:18.099896Z"
    },
    "tags": []
   },
   "outputs": [
    {
     "data": {
      "text/plain": [
       "(100000, 6154)"
      ]
     },
     "execution_count": 14,
     "metadata": {},
     "output_type": "execute_result"
    }
   ],
   "source": [
    "df_sample_enc.shape"
   ]
  },
  {
   "cell_type": "code",
   "execution_count": 6,
   "metadata": {
    "execution": {
     "iopub.execute_input": "2023-05-18T14:04:14.484459Z",
     "iopub.status.busy": "2023-05-18T14:04:14.483643Z",
     "iopub.status.idle": "2023-05-18T14:04:14.608005Z",
     "shell.execute_reply": "2023-05-18T14:04:14.607163Z",
     "shell.execute_reply.started": "2023-05-18T14:04:14.484400Z"
    },
    "tags": []
   },
   "outputs": [],
   "source": [
    "from sklearn.preprocessing import OrdinalEncoder\n",
    "\n",
    "enc = OrdinalEncoder()\n",
    "\n",
    "selected_columns = ['TAIL_NUM', 'DEPARTING_AIRPORT', 'CARRIER_NAME', 'PREVIOUS_AIRPORT']\n",
    "\n",
    "selected_df = df_sample_enc[selected_columns].copy()\n",
    "\n",
    "encoded_data = enc.fit_transform(selected_df)\n",
    "\n",
    "df_sample_enc[selected_columns] = encoded_data\n"
   ]
  },
  {
   "cell_type": "raw",
   "metadata": {},
   "source": [
    "Splitting the sample data into training and testing data. We only do one split, since we will use cross validation on the training data and then use the test data as a final single test."
   ]
  },
  {
   "cell_type": "code",
   "execution_count": 15,
   "metadata": {
    "execution": {
     "iopub.execute_input": "2023-05-19T10:01:20.819366Z",
     "iopub.status.busy": "2023-05-19T10:01:20.818788Z",
     "iopub.status.idle": "2023-05-19T10:01:22.097811Z",
     "shell.execute_reply": "2023-05-19T10:01:22.096525Z",
     "shell.execute_reply.started": "2023-05-19T10:01:20.819329Z"
    },
    "tags": []
   },
   "outputs": [],
   "source": [
    "X = df_sample_enc.drop('DEP_DEL15', axis=1)\n",
    "y = df_sample_enc['DEP_DEL15']\n",
    "\n",
    "X_train, X_test, y_train, y_test = train_test_split(X, y, test_size=0.20, random_state=68, stratify=y)"
   ]
  },
  {
   "cell_type": "code",
   "execution_count": 56,
   "metadata": {
    "execution": {
     "iopub.execute_input": "2023-05-18T13:35:35.789509Z",
     "iopub.status.busy": "2023-05-18T13:35:35.788708Z",
     "iopub.status.idle": "2023-05-18T13:35:35.824860Z",
     "shell.execute_reply": "2023-05-18T13:35:35.824111Z",
     "shell.execute_reply.started": "2023-05-18T13:35:35.789453Z"
    },
    "tags": []
   },
   "outputs": [
    {
     "data": {
      "text/html": [
       "<div>\n",
       "<style scoped>\n",
       "    .dataframe tbody tr th:only-of-type {\n",
       "        vertical-align: middle;\n",
       "    }\n",
       "\n",
       "    .dataframe tbody tr th {\n",
       "        vertical-align: top;\n",
       "    }\n",
       "\n",
       "    .dataframe thead th {\n",
       "        text-align: right;\n",
       "    }\n",
       "</style>\n",
       "<table border=\"1\" class=\"dataframe\">\n",
       "  <thead>\n",
       "    <tr style=\"text-align: right;\">\n",
       "      <th></th>\n",
       "      <th>MONTH</th>\n",
       "      <th>DAY_OF_WEEK</th>\n",
       "      <th>TAIL_NUM</th>\n",
       "      <th>DEST_AIRPORT_ID</th>\n",
       "      <th>DEP_DEL15</th>\n",
       "      <th>DISTANCE_GROUP</th>\n",
       "      <th>CONCURRENT_FLIGHTS</th>\n",
       "      <th>NUMBER_OF_SEATS</th>\n",
       "      <th>CARRIER_NAME</th>\n",
       "      <th>AIRPORT_FLIGHTS_MONTH</th>\n",
       "      <th>AIRLINE_FLIGHTS_MONTH</th>\n",
       "      <th>AIRLINE_AIRPORT_FLIGHTS_MONTH</th>\n",
       "      <th>AVG_MONTHLY_PASS_AIRPORT</th>\n",
       "      <th>AVG_MONTHLY_PASS_AIRLINE</th>\n",
       "      <th>FLT_ATTENDANTS_PER_PASS</th>\n",
       "      <th>GROUND_SERV_PER_PASS</th>\n",
       "      <th>PLANE_AGE</th>\n",
       "      <th>DEPARTING_AIRPORT</th>\n",
       "      <th>PREVIOUS_AIRPORT</th>\n",
       "      <th>PRCP</th>\n",
       "      <th>SNOW</th>\n",
       "      <th>SNWD</th>\n",
       "      <th>TMAX</th>\n",
       "      <th>AWND</th>\n",
       "      <th>DEP_TIME_BLK_0001-0559</th>\n",
       "      <th>DEP_TIME_BLK_0600-0659</th>\n",
       "      <th>DEP_TIME_BLK_0700-0759</th>\n",
       "      <th>DEP_TIME_BLK_0800-0859</th>\n",
       "      <th>DEP_TIME_BLK_0900-0959</th>\n",
       "      <th>DEP_TIME_BLK_1000-1059</th>\n",
       "      <th>DEP_TIME_BLK_1100-1159</th>\n",
       "      <th>DEP_TIME_BLK_1200-1259</th>\n",
       "      <th>DEP_TIME_BLK_1300-1359</th>\n",
       "      <th>DEP_TIME_BLK_1400-1459</th>\n",
       "      <th>DEP_TIME_BLK_1500-1559</th>\n",
       "      <th>DEP_TIME_BLK_1600-1659</th>\n",
       "      <th>DEP_TIME_BLK_1700-1759</th>\n",
       "      <th>DEP_TIME_BLK_1800-1859</th>\n",
       "      <th>DEP_TIME_BLK_1900-1959</th>\n",
       "      <th>DEP_TIME_BLK_2000-2059</th>\n",
       "      <th>DEP_TIME_BLK_2100-2159</th>\n",
       "      <th>DEP_TIME_BLK_2200-2259</th>\n",
       "      <th>DEP_TIME_BLK_2300-2359</th>\n",
       "      <th>ARR_TIME_BLK_0001-0559</th>\n",
       "      <th>ARR_TIME_BLK_0600-0659</th>\n",
       "      <th>ARR_TIME_BLK_0700-0759</th>\n",
       "      <th>ARR_TIME_BLK_0800-0859</th>\n",
       "      <th>ARR_TIME_BLK_0900-0959</th>\n",
       "      <th>ARR_TIME_BLK_1000-1059</th>\n",
       "      <th>ARR_TIME_BLK_1100-1159</th>\n",
       "      <th>ARR_TIME_BLK_1200-1259</th>\n",
       "      <th>ARR_TIME_BLK_1300-1359</th>\n",
       "      <th>ARR_TIME_BLK_1400-1459</th>\n",
       "      <th>ARR_TIME_BLK_1500-1559</th>\n",
       "      <th>ARR_TIME_BLK_1600-1659</th>\n",
       "      <th>ARR_TIME_BLK_1700-1759</th>\n",
       "      <th>ARR_TIME_BLK_1800-1859</th>\n",
       "      <th>ARR_TIME_BLK_1900-1959</th>\n",
       "      <th>ARR_TIME_BLK_2000-2059</th>\n",
       "      <th>ARR_TIME_BLK_2100-2159</th>\n",
       "      <th>ARR_TIME_BLK_2200-2259</th>\n",
       "      <th>ARR_TIME_BLK_2300-2359</th>\n",
       "    </tr>\n",
       "  </thead>\n",
       "  <tbody>\n",
       "    <tr>\n",
       "      <th>3259680</th>\n",
       "      <td>7</td>\n",
       "      <td>3</td>\n",
       "      <td>1572.00</td>\n",
       "      <td>10397</td>\n",
       "      <td>1</td>\n",
       "      <td>8</td>\n",
       "      <td>32</td>\n",
       "      <td>191</td>\n",
       "      <td>6.00</td>\n",
       "      <td>19667</td>\n",
       "      <td>90457</td>\n",
       "      <td>3468</td>\n",
       "      <td>2780593</td>\n",
       "      <td>12460183</td>\n",
       "      <td>0.00</td>\n",
       "      <td>0.00</td>\n",
       "      <td>0</td>\n",
       "      <td>42.00</td>\n",
       "      <td>212.00</td>\n",
       "      <td>0.00</td>\n",
       "      <td>0.00</td>\n",
       "      <td>0.00</td>\n",
       "      <td>74.00</td>\n",
       "      <td>8.50</td>\n",
       "      <td>False</td>\n",
       "      <td>False</td>\n",
       "      <td>False</td>\n",
       "      <td>False</td>\n",
       "      <td>False</td>\n",
       "      <td>False</td>\n",
       "      <td>False</td>\n",
       "      <td>False</td>\n",
       "      <td>False</td>\n",
       "      <td>False</td>\n",
       "      <td>False</td>\n",
       "      <td>False</td>\n",
       "      <td>False</td>\n",
       "      <td>False</td>\n",
       "      <td>False</td>\n",
       "      <td>False</td>\n",
       "      <td>False</td>\n",
       "      <td>False</td>\n",
       "      <td>True</td>\n",
       "      <td>False</td>\n",
       "      <td>False</td>\n",
       "      <td>True</td>\n",
       "      <td>False</td>\n",
       "      <td>False</td>\n",
       "      <td>False</td>\n",
       "      <td>False</td>\n",
       "      <td>False</td>\n",
       "      <td>False</td>\n",
       "      <td>False</td>\n",
       "      <td>False</td>\n",
       "      <td>False</td>\n",
       "      <td>False</td>\n",
       "      <td>False</td>\n",
       "      <td>False</td>\n",
       "      <td>False</td>\n",
       "      <td>False</td>\n",
       "      <td>False</td>\n",
       "      <td>False</td>\n",
       "    </tr>\n",
       "    <tr>\n",
       "      <th>4186777</th>\n",
       "      <td>8</td>\n",
       "      <td>1</td>\n",
       "      <td>792.00</td>\n",
       "      <td>10257</td>\n",
       "      <td>1</td>\n",
       "      <td>2</td>\n",
       "      <td>30</td>\n",
       "      <td>50</td>\n",
       "      <td>5.00</td>\n",
       "      <td>11484</td>\n",
       "      <td>24496</td>\n",
       "      <td>2439</td>\n",
       "      <td>955406</td>\n",
       "      <td>1245396</td>\n",
       "      <td>0.00</td>\n",
       "      <td>0.00</td>\n",
       "      <td>15</td>\n",
       "      <td>73.00</td>\n",
       "      <td>224.00</td>\n",
       "      <td>0.00</td>\n",
       "      <td>0.00</td>\n",
       "      <td>0.00</td>\n",
       "      <td>95.00</td>\n",
       "      <td>3.36</td>\n",
       "      <td>False</td>\n",
       "      <td>False</td>\n",
       "      <td>False</td>\n",
       "      <td>False</td>\n",
       "      <td>False</td>\n",
       "      <td>False</td>\n",
       "      <td>False</td>\n",
       "      <td>False</td>\n",
       "      <td>False</td>\n",
       "      <td>False</td>\n",
       "      <td>True</td>\n",
       "      <td>False</td>\n",
       "      <td>False</td>\n",
       "      <td>False</td>\n",
       "      <td>False</td>\n",
       "      <td>False</td>\n",
       "      <td>False</td>\n",
       "      <td>False</td>\n",
       "      <td>False</td>\n",
       "      <td>False</td>\n",
       "      <td>False</td>\n",
       "      <td>False</td>\n",
       "      <td>False</td>\n",
       "      <td>False</td>\n",
       "      <td>False</td>\n",
       "      <td>False</td>\n",
       "      <td>False</td>\n",
       "      <td>False</td>\n",
       "      <td>False</td>\n",
       "      <td>False</td>\n",
       "      <td>True</td>\n",
       "      <td>False</td>\n",
       "      <td>False</td>\n",
       "      <td>False</td>\n",
       "      <td>False</td>\n",
       "      <td>False</td>\n",
       "      <td>False</td>\n",
       "      <td>False</td>\n",
       "    </tr>\n",
       "    <tr>\n",
       "      <th>588925</th>\n",
       "      <td>2</td>\n",
       "      <td>3</td>\n",
       "      <td>989.00</td>\n",
       "      <td>11995</td>\n",
       "      <td>0</td>\n",
       "      <td>4</td>\n",
       "      <td>30</td>\n",
       "      <td>76</td>\n",
       "      <td>3.00</td>\n",
       "      <td>20700</td>\n",
       "      <td>21895</td>\n",
       "      <td>3538</td>\n",
       "      <td>2907365</td>\n",
       "      <td>1204766</td>\n",
       "      <td>0.00</td>\n",
       "      <td>0.00</td>\n",
       "      <td>1</td>\n",
       "      <td>14.00</td>\n",
       "      <td>155.00</td>\n",
       "      <td>0.00</td>\n",
       "      <td>0.00</td>\n",
       "      <td>0.00</td>\n",
       "      <td>61.00</td>\n",
       "      <td>13.42</td>\n",
       "      <td>False</td>\n",
       "      <td>False</td>\n",
       "      <td>False</td>\n",
       "      <td>False</td>\n",
       "      <td>False</td>\n",
       "      <td>False</td>\n",
       "      <td>True</td>\n",
       "      <td>False</td>\n",
       "      <td>False</td>\n",
       "      <td>False</td>\n",
       "      <td>False</td>\n",
       "      <td>False</td>\n",
       "      <td>False</td>\n",
       "      <td>False</td>\n",
       "      <td>False</td>\n",
       "      <td>False</td>\n",
       "      <td>False</td>\n",
       "      <td>False</td>\n",
       "      <td>False</td>\n",
       "      <td>False</td>\n",
       "      <td>False</td>\n",
       "      <td>False</td>\n",
       "      <td>False</td>\n",
       "      <td>False</td>\n",
       "      <td>False</td>\n",
       "      <td>False</td>\n",
       "      <td>False</td>\n",
       "      <td>False</td>\n",
       "      <td>True</td>\n",
       "      <td>False</td>\n",
       "      <td>False</td>\n",
       "      <td>False</td>\n",
       "      <td>False</td>\n",
       "      <td>False</td>\n",
       "      <td>False</td>\n",
       "      <td>False</td>\n",
       "      <td>False</td>\n",
       "      <td>False</td>\n",
       "    </tr>\n",
       "    <tr>\n",
       "      <th>5922262</th>\n",
       "      <td>11</td>\n",
       "      <td>2</td>\n",
       "      <td>588.00</td>\n",
       "      <td>11292</td>\n",
       "      <td>0</td>\n",
       "      <td>4</td>\n",
       "      <td>5</td>\n",
       "      <td>142</td>\n",
       "      <td>16.00</td>\n",
       "      <td>2550</td>\n",
       "      <td>49915</td>\n",
       "      <td>84</td>\n",
       "      <td>259669</td>\n",
       "      <td>8501631</td>\n",
       "      <td>0.00</td>\n",
       "      <td>0.00</td>\n",
       "      <td>13</td>\n",
       "      <td>26.00</td>\n",
       "      <td>302.00</td>\n",
       "      <td>0.00</td>\n",
       "      <td>0.00</td>\n",
       "      <td>0.00</td>\n",
       "      <td>37.00</td>\n",
       "      <td>9.17</td>\n",
       "      <td>False</td>\n",
       "      <td>False</td>\n",
       "      <td>False</td>\n",
       "      <td>False</td>\n",
       "      <td>False</td>\n",
       "      <td>False</td>\n",
       "      <td>False</td>\n",
       "      <td>True</td>\n",
       "      <td>False</td>\n",
       "      <td>False</td>\n",
       "      <td>False</td>\n",
       "      <td>False</td>\n",
       "      <td>False</td>\n",
       "      <td>False</td>\n",
       "      <td>False</td>\n",
       "      <td>False</td>\n",
       "      <td>False</td>\n",
       "      <td>False</td>\n",
       "      <td>False</td>\n",
       "      <td>False</td>\n",
       "      <td>False</td>\n",
       "      <td>False</td>\n",
       "      <td>False</td>\n",
       "      <td>False</td>\n",
       "      <td>False</td>\n",
       "      <td>False</td>\n",
       "      <td>False</td>\n",
       "      <td>False</td>\n",
       "      <td>False</td>\n",
       "      <td>False</td>\n",
       "      <td>True</td>\n",
       "      <td>False</td>\n",
       "      <td>False</td>\n",
       "      <td>False</td>\n",
       "      <td>False</td>\n",
       "      <td>False</td>\n",
       "      <td>False</td>\n",
       "      <td>False</td>\n",
       "    </tr>\n",
       "    <tr>\n",
       "      <th>2547631</th>\n",
       "      <td>5</td>\n",
       "      <td>1</td>\n",
       "      <td>3213.00</td>\n",
       "      <td>14747</td>\n",
       "      <td>1</td>\n",
       "      <td>5</td>\n",
       "      <td>30</td>\n",
       "      <td>230</td>\n",
       "      <td>8.00</td>\n",
       "      <td>20794</td>\n",
       "      <td>11254</td>\n",
       "      <td>2366</td>\n",
       "      <td>2743323</td>\n",
       "      <td>1857122</td>\n",
       "      <td>0.00</td>\n",
       "      <td>0.00</td>\n",
       "      <td>2</td>\n",
       "      <td>86.00</td>\n",
       "      <td>192.00</td>\n",
       "      <td>0.00</td>\n",
       "      <td>0.00</td>\n",
       "      <td>0.00</td>\n",
       "      <td>69.00</td>\n",
       "      <td>14.32</td>\n",
       "      <td>False</td>\n",
       "      <td>False</td>\n",
       "      <td>False</td>\n",
       "      <td>False</td>\n",
       "      <td>False</td>\n",
       "      <td>False</td>\n",
       "      <td>False</td>\n",
       "      <td>False</td>\n",
       "      <td>False</td>\n",
       "      <td>False</td>\n",
       "      <td>False</td>\n",
       "      <td>False</td>\n",
       "      <td>False</td>\n",
       "      <td>True</td>\n",
       "      <td>False</td>\n",
       "      <td>False</td>\n",
       "      <td>False</td>\n",
       "      <td>False</td>\n",
       "      <td>False</td>\n",
       "      <td>False</td>\n",
       "      <td>False</td>\n",
       "      <td>False</td>\n",
       "      <td>False</td>\n",
       "      <td>False</td>\n",
       "      <td>False</td>\n",
       "      <td>False</td>\n",
       "      <td>False</td>\n",
       "      <td>False</td>\n",
       "      <td>False</td>\n",
       "      <td>False</td>\n",
       "      <td>False</td>\n",
       "      <td>False</td>\n",
       "      <td>False</td>\n",
       "      <td>False</td>\n",
       "      <td>True</td>\n",
       "      <td>False</td>\n",
       "      <td>False</td>\n",
       "      <td>False</td>\n",
       "    </tr>\n",
       "  </tbody>\n",
       "</table>\n",
       "</div>"
      ],
      "text/plain": [
       "        MONTH DAY_OF_WEEK  TAIL_NUM  DEST_AIRPORT_ID  DEP_DEL15   \n",
       "3259680     7           3   1572.00            10397          1  \\\n",
       "4186777     8           1    792.00            10257          1   \n",
       "588925      2           3    989.00            11995          0   \n",
       "5922262    11           2    588.00            11292          0   \n",
       "2547631     5           1   3213.00            14747          1   \n",
       "\n",
       "         DISTANCE_GROUP  CONCURRENT_FLIGHTS  NUMBER_OF_SEATS  CARRIER_NAME   \n",
       "3259680               8                  32              191          6.00  \\\n",
       "4186777               2                  30               50          5.00   \n",
       "588925                4                  30               76          3.00   \n",
       "5922262               4                   5              142         16.00   \n",
       "2547631               5                  30              230          8.00   \n",
       "\n",
       "         AIRPORT_FLIGHTS_MONTH  AIRLINE_FLIGHTS_MONTH   \n",
       "3259680                  19667                  90457  \\\n",
       "4186777                  11484                  24496   \n",
       "588925                   20700                  21895   \n",
       "5922262                   2550                  49915   \n",
       "2547631                  20794                  11254   \n",
       "\n",
       "         AIRLINE_AIRPORT_FLIGHTS_MONTH  AVG_MONTHLY_PASS_AIRPORT   \n",
       "3259680                           3468                   2780593  \\\n",
       "4186777                           2439                    955406   \n",
       "588925                            3538                   2907365   \n",
       "5922262                             84                    259669   \n",
       "2547631                           2366                   2743323   \n",
       "\n",
       "         AVG_MONTHLY_PASS_AIRLINE  FLT_ATTENDANTS_PER_PASS   \n",
       "3259680                  12460183                     0.00  \\\n",
       "4186777                   1245396                     0.00   \n",
       "588925                    1204766                     0.00   \n",
       "5922262                   8501631                     0.00   \n",
       "2547631                   1857122                     0.00   \n",
       "\n",
       "         GROUND_SERV_PER_PASS  PLANE_AGE  DEPARTING_AIRPORT  PREVIOUS_AIRPORT   \n",
       "3259680                  0.00          0              42.00            212.00  \\\n",
       "4186777                  0.00         15              73.00            224.00   \n",
       "588925                   0.00          1              14.00            155.00   \n",
       "5922262                  0.00         13              26.00            302.00   \n",
       "2547631                  0.00          2              86.00            192.00   \n",
       "\n",
       "         PRCP  SNOW  SNWD  TMAX  AWND  DEP_TIME_BLK_0001-0559   \n",
       "3259680  0.00  0.00  0.00 74.00  8.50                   False  \\\n",
       "4186777  0.00  0.00  0.00 95.00  3.36                   False   \n",
       "588925   0.00  0.00  0.00 61.00 13.42                   False   \n",
       "5922262  0.00  0.00  0.00 37.00  9.17                   False   \n",
       "2547631  0.00  0.00  0.00 69.00 14.32                   False   \n",
       "\n",
       "         DEP_TIME_BLK_0600-0659  DEP_TIME_BLK_0700-0759   \n",
       "3259680                   False                   False  \\\n",
       "4186777                   False                   False   \n",
       "588925                    False                   False   \n",
       "5922262                   False                   False   \n",
       "2547631                   False                   False   \n",
       "\n",
       "         DEP_TIME_BLK_0800-0859  DEP_TIME_BLK_0900-0959   \n",
       "3259680                   False                   False  \\\n",
       "4186777                   False                   False   \n",
       "588925                    False                   False   \n",
       "5922262                   False                   False   \n",
       "2547631                   False                   False   \n",
       "\n",
       "         DEP_TIME_BLK_1000-1059  DEP_TIME_BLK_1100-1159   \n",
       "3259680                   False                   False  \\\n",
       "4186777                   False                   False   \n",
       "588925                    False                    True   \n",
       "5922262                   False                   False   \n",
       "2547631                   False                   False   \n",
       "\n",
       "         DEP_TIME_BLK_1200-1259  DEP_TIME_BLK_1300-1359   \n",
       "3259680                   False                   False  \\\n",
       "4186777                   False                   False   \n",
       "588925                    False                   False   \n",
       "5922262                    True                   False   \n",
       "2547631                   False                   False   \n",
       "\n",
       "         DEP_TIME_BLK_1400-1459  DEP_TIME_BLK_1500-1559   \n",
       "3259680                   False                   False  \\\n",
       "4186777                   False                    True   \n",
       "588925                    False                   False   \n",
       "5922262                   False                   False   \n",
       "2547631                   False                   False   \n",
       "\n",
       "         DEP_TIME_BLK_1600-1659  DEP_TIME_BLK_1700-1759   \n",
       "3259680                   False                   False  \\\n",
       "4186777                   False                   False   \n",
       "588925                    False                   False   \n",
       "5922262                   False                   False   \n",
       "2547631                   False                   False   \n",
       "\n",
       "         DEP_TIME_BLK_1800-1859  DEP_TIME_BLK_1900-1959   \n",
       "3259680                   False                   False  \\\n",
       "4186777                   False                   False   \n",
       "588925                    False                   False   \n",
       "5922262                   False                   False   \n",
       "2547631                    True                   False   \n",
       "\n",
       "         DEP_TIME_BLK_2000-2059  DEP_TIME_BLK_2100-2159   \n",
       "3259680                   False                   False  \\\n",
       "4186777                   False                   False   \n",
       "588925                    False                   False   \n",
       "5922262                   False                   False   \n",
       "2547631                   False                   False   \n",
       "\n",
       "         DEP_TIME_BLK_2200-2259  DEP_TIME_BLK_2300-2359   \n",
       "3259680                   False                    True  \\\n",
       "4186777                   False                   False   \n",
       "588925                    False                   False   \n",
       "5922262                   False                   False   \n",
       "2547631                   False                   False   \n",
       "\n",
       "         ARR_TIME_BLK_0001-0559  ARR_TIME_BLK_0600-0659   \n",
       "3259680                   False                   False  \\\n",
       "4186777                   False                   False   \n",
       "588925                    False                   False   \n",
       "5922262                   False                   False   \n",
       "2547631                   False                   False   \n",
       "\n",
       "         ARR_TIME_BLK_0700-0759  ARR_TIME_BLK_0800-0859   \n",
       "3259680                    True                   False  \\\n",
       "4186777                   False                   False   \n",
       "588925                    False                   False   \n",
       "5922262                   False                   False   \n",
       "2547631                   False                   False   \n",
       "\n",
       "         ARR_TIME_BLK_0900-0959  ARR_TIME_BLK_1000-1059   \n",
       "3259680                   False                   False  \\\n",
       "4186777                   False                   False   \n",
       "588925                    False                   False   \n",
       "5922262                   False                   False   \n",
       "2547631                   False                   False   \n",
       "\n",
       "         ARR_TIME_BLK_1100-1159  ARR_TIME_BLK_1200-1259   \n",
       "3259680                   False                   False  \\\n",
       "4186777                   False                   False   \n",
       "588925                    False                   False   \n",
       "5922262                   False                   False   \n",
       "2547631                   False                   False   \n",
       "\n",
       "         ARR_TIME_BLK_1300-1359  ARR_TIME_BLK_1400-1459   \n",
       "3259680                   False                   False  \\\n",
       "4186777                   False                   False   \n",
       "588925                    False                    True   \n",
       "5922262                   False                   False   \n",
       "2547631                   False                   False   \n",
       "\n",
       "         ARR_TIME_BLK_1500-1559  ARR_TIME_BLK_1600-1659   \n",
       "3259680                   False                   False  \\\n",
       "4186777                   False                    True   \n",
       "588925                    False                   False   \n",
       "5922262                   False                    True   \n",
       "2547631                   False                   False   \n",
       "\n",
       "         ARR_TIME_BLK_1700-1759  ARR_TIME_BLK_1800-1859   \n",
       "3259680                   False                   False  \\\n",
       "4186777                   False                   False   \n",
       "588925                    False                   False   \n",
       "5922262                   False                   False   \n",
       "2547631                   False                   False   \n",
       "\n",
       "         ARR_TIME_BLK_1900-1959  ARR_TIME_BLK_2000-2059   \n",
       "3259680                   False                   False  \\\n",
       "4186777                   False                   False   \n",
       "588925                    False                   False   \n",
       "5922262                   False                   False   \n",
       "2547631                   False                    True   \n",
       "\n",
       "         ARR_TIME_BLK_2100-2159  ARR_TIME_BLK_2200-2259   \n",
       "3259680                   False                   False  \\\n",
       "4186777                   False                   False   \n",
       "588925                    False                   False   \n",
       "5922262                   False                   False   \n",
       "2547631                   False                   False   \n",
       "\n",
       "         ARR_TIME_BLK_2300-2359  \n",
       "3259680                   False  \n",
       "4186777                   False  \n",
       "588925                    False  \n",
       "5922262                   False  \n",
       "2547631                   False  "
      ]
     },
     "execution_count": 56,
     "metadata": {},
     "output_type": "execute_result"
    }
   ],
   "source": [
    "df_sample_enc.head()"
   ]
  },
  {
   "cell_type": "code",
   "execution_count": 8,
   "metadata": {
    "execution": {
     "iopub.execute_input": "2023-05-18T14:04:42.392085Z",
     "iopub.status.busy": "2023-05-18T14:04:42.391260Z",
     "iopub.status.idle": "2023-05-18T14:04:42.400934Z",
     "shell.execute_reply": "2023-05-18T14:04:42.399750Z",
     "shell.execute_reply.started": "2023-05-18T14:04:42.392027Z"
    },
    "tags": []
   },
   "outputs": [
    {
     "data": {
      "text/plain": [
       "(100000, 62)"
      ]
     },
     "execution_count": 8,
     "metadata": {},
     "output_type": "execute_result"
    }
   ],
   "source": [
    "df_sample_enc.shape"
   ]
  },
  {
   "cell_type": "code",
   "execution_count": 58,
   "metadata": {
    "execution": {
     "iopub.execute_input": "2023-05-18T13:36:04.047226Z",
     "iopub.status.busy": "2023-05-18T13:36:04.046537Z",
     "iopub.status.idle": "2023-05-18T13:36:04.083348Z",
     "shell.execute_reply": "2023-05-18T13:36:04.082136Z",
     "shell.execute_reply.started": "2023-05-18T13:36:04.047170Z"
    },
    "tags": []
   },
   "outputs": [],
   "source": [
    "from sklearn.utils import all_estimators\n",
    "\n",
    "all_classifiers_raw = all_estimators(type_filter='classifier')"
   ]
  },
  {
   "cell_type": "code",
   "execution_count": 59,
   "metadata": {
    "execution": {
     "iopub.execute_input": "2023-05-18T13:36:05.007187Z",
     "iopub.status.busy": "2023-05-18T13:36:05.006420Z",
     "iopub.status.idle": "2023-05-18T13:36:05.040287Z",
     "shell.execute_reply": "2023-05-18T13:36:05.039074Z",
     "shell.execute_reply.started": "2023-05-18T13:36:05.007129Z"
    },
    "tags": []
   },
   "outputs": [],
   "source": [
    "# classifier_list = [e + '()' for e in classifier_list]\n",
    "\n",
    "model_df = pd.DataFrame(columns=['Model', 'Model Type'])\n",
    "\n",
    "\n",
    "for classifier in all_classifiers_raw:\n",
    "    classifier_with_type = str(classifier[1]).split(\"'\")[1]\n",
    "    \n",
    "    splitted_classifier = classifier_with_type.split(\".\")\n",
    "    \n",
    "    # print(splitted_classifier)\n",
    "    \n",
    "    if splitted_classifier[1] in ['ensemble', 'neighbors', 'naive_bayes', 'tree', 'linear_model']:\n",
    "        \n",
    "        model_df.loc[len(model_df)] = [classifier[0], splitted_classifier[1]]"
   ]
  },
  {
   "cell_type": "code",
   "execution_count": 60,
   "metadata": {
    "execution": {
     "iopub.execute_input": "2023-05-18T13:36:06.759898Z",
     "iopub.status.busy": "2023-05-18T13:36:06.759074Z",
     "iopub.status.idle": "2023-05-18T13:36:06.774189Z",
     "shell.execute_reply": "2023-05-18T13:36:06.773591Z",
     "shell.execute_reply.started": "2023-05-18T13:36:06.759839Z"
    },
    "tags": []
   },
   "outputs": [
    {
     "data": {
      "text/html": [
       "<div>\n",
       "<style scoped>\n",
       "    .dataframe tbody tr th:only-of-type {\n",
       "        vertical-align: middle;\n",
       "    }\n",
       "\n",
       "    .dataframe tbody tr th {\n",
       "        vertical-align: top;\n",
       "    }\n",
       "\n",
       "    .dataframe thead th {\n",
       "        text-align: right;\n",
       "    }\n",
       "</style>\n",
       "<table border=\"1\" class=\"dataframe\">\n",
       "  <thead>\n",
       "    <tr style=\"text-align: right;\">\n",
       "      <th></th>\n",
       "      <th>Model</th>\n",
       "      <th>Model Type</th>\n",
       "    </tr>\n",
       "  </thead>\n",
       "  <tbody>\n",
       "    <tr>\n",
       "      <th>0</th>\n",
       "      <td>AdaBoostClassifier</td>\n",
       "      <td>ensemble</td>\n",
       "    </tr>\n",
       "    <tr>\n",
       "      <th>1</th>\n",
       "      <td>BaggingClassifier</td>\n",
       "      <td>ensemble</td>\n",
       "    </tr>\n",
       "    <tr>\n",
       "      <th>2</th>\n",
       "      <td>BernoulliNB</td>\n",
       "      <td>naive_bayes</td>\n",
       "    </tr>\n",
       "    <tr>\n",
       "      <th>3</th>\n",
       "      <td>CategoricalNB</td>\n",
       "      <td>naive_bayes</td>\n",
       "    </tr>\n",
       "    <tr>\n",
       "      <th>4</th>\n",
       "      <td>ComplementNB</td>\n",
       "      <td>naive_bayes</td>\n",
       "    </tr>\n",
       "    <tr>\n",
       "      <th>5</th>\n",
       "      <td>DecisionTreeClassifier</td>\n",
       "      <td>tree</td>\n",
       "    </tr>\n",
       "    <tr>\n",
       "      <th>6</th>\n",
       "      <td>ExtraTreeClassifier</td>\n",
       "      <td>tree</td>\n",
       "    </tr>\n",
       "    <tr>\n",
       "      <th>7</th>\n",
       "      <td>ExtraTreesClassifier</td>\n",
       "      <td>ensemble</td>\n",
       "    </tr>\n",
       "    <tr>\n",
       "      <th>8</th>\n",
       "      <td>GaussianNB</td>\n",
       "      <td>naive_bayes</td>\n",
       "    </tr>\n",
       "    <tr>\n",
       "      <th>9</th>\n",
       "      <td>GradientBoostingClassifier</td>\n",
       "      <td>ensemble</td>\n",
       "    </tr>\n",
       "    <tr>\n",
       "      <th>10</th>\n",
       "      <td>HistGradientBoostingClassifier</td>\n",
       "      <td>ensemble</td>\n",
       "    </tr>\n",
       "    <tr>\n",
       "      <th>11</th>\n",
       "      <td>KNeighborsClassifier</td>\n",
       "      <td>neighbors</td>\n",
       "    </tr>\n",
       "    <tr>\n",
       "      <th>12</th>\n",
       "      <td>LogisticRegression</td>\n",
       "      <td>linear_model</td>\n",
       "    </tr>\n",
       "    <tr>\n",
       "      <th>13</th>\n",
       "      <td>LogisticRegressionCV</td>\n",
       "      <td>linear_model</td>\n",
       "    </tr>\n",
       "    <tr>\n",
       "      <th>14</th>\n",
       "      <td>MultinomialNB</td>\n",
       "      <td>naive_bayes</td>\n",
       "    </tr>\n",
       "    <tr>\n",
       "      <th>15</th>\n",
       "      <td>NearestCentroid</td>\n",
       "      <td>neighbors</td>\n",
       "    </tr>\n",
       "    <tr>\n",
       "      <th>16</th>\n",
       "      <td>PassiveAggressiveClassifier</td>\n",
       "      <td>linear_model</td>\n",
       "    </tr>\n",
       "    <tr>\n",
       "      <th>17</th>\n",
       "      <td>Perceptron</td>\n",
       "      <td>linear_model</td>\n",
       "    </tr>\n",
       "    <tr>\n",
       "      <th>18</th>\n",
       "      <td>RadiusNeighborsClassifier</td>\n",
       "      <td>neighbors</td>\n",
       "    </tr>\n",
       "    <tr>\n",
       "      <th>19</th>\n",
       "      <td>RandomForestClassifier</td>\n",
       "      <td>ensemble</td>\n",
       "    </tr>\n",
       "    <tr>\n",
       "      <th>20</th>\n",
       "      <td>RidgeClassifier</td>\n",
       "      <td>linear_model</td>\n",
       "    </tr>\n",
       "    <tr>\n",
       "      <th>21</th>\n",
       "      <td>RidgeClassifierCV</td>\n",
       "      <td>linear_model</td>\n",
       "    </tr>\n",
       "    <tr>\n",
       "      <th>22</th>\n",
       "      <td>SGDClassifier</td>\n",
       "      <td>linear_model</td>\n",
       "    </tr>\n",
       "    <tr>\n",
       "      <th>23</th>\n",
       "      <td>StackingClassifier</td>\n",
       "      <td>ensemble</td>\n",
       "    </tr>\n",
       "    <tr>\n",
       "      <th>24</th>\n",
       "      <td>VotingClassifier</td>\n",
       "      <td>ensemble</td>\n",
       "    </tr>\n",
       "  </tbody>\n",
       "</table>\n",
       "</div>"
      ],
      "text/plain": [
       "                             Model    Model Type\n",
       "0               AdaBoostClassifier      ensemble\n",
       "1                BaggingClassifier      ensemble\n",
       "2                      BernoulliNB   naive_bayes\n",
       "3                    CategoricalNB   naive_bayes\n",
       "4                     ComplementNB   naive_bayes\n",
       "5           DecisionTreeClassifier          tree\n",
       "6              ExtraTreeClassifier          tree\n",
       "7             ExtraTreesClassifier      ensemble\n",
       "8                       GaussianNB   naive_bayes\n",
       "9       GradientBoostingClassifier      ensemble\n",
       "10  HistGradientBoostingClassifier      ensemble\n",
       "11            KNeighborsClassifier     neighbors\n",
       "12              LogisticRegression  linear_model\n",
       "13            LogisticRegressionCV  linear_model\n",
       "14                   MultinomialNB   naive_bayes\n",
       "15                 NearestCentroid     neighbors\n",
       "16     PassiveAggressiveClassifier  linear_model\n",
       "17                      Perceptron  linear_model\n",
       "18       RadiusNeighborsClassifier     neighbors\n",
       "19          RandomForestClassifier      ensemble\n",
       "20                 RidgeClassifier  linear_model\n",
       "21               RidgeClassifierCV  linear_model\n",
       "22                   SGDClassifier  linear_model\n",
       "23              StackingClassifier      ensemble\n",
       "24                VotingClassifier      ensemble"
      ]
     },
     "execution_count": 60,
     "metadata": {},
     "output_type": "execute_result"
    }
   ],
   "source": [
    "model_df"
   ]
  },
  {
   "cell_type": "code",
   "execution_count": 36,
   "metadata": {
    "execution": {
     "iopub.execute_input": "2023-05-18T12:47:51.120925Z",
     "iopub.status.busy": "2023-05-18T12:47:51.120084Z",
     "iopub.status.idle": "2023-05-18T12:47:51.133472Z",
     "shell.execute_reply": "2023-05-18T12:47:51.132760Z",
     "shell.execute_reply.started": "2023-05-18T12:47:51.120866Z"
    },
    "tags": []
   },
   "outputs": [
    {
     "name": "stdout",
     "output_type": "stream",
     "text": [
      "from sklearn.ensemble import AdaBoostClassifier\n",
      "from sklearn.ensemble import BaggingClassifier\n",
      "from sklearn.naive_bayes import BernoulliNB\n",
      "from sklearn.naive_bayes import CategoricalNB\n",
      "from sklearn.naive_bayes import ComplementNB\n",
      "from sklearn.tree import DecisionTreeClassifier\n",
      "from sklearn.tree import ExtraTreeClassifier\n",
      "from sklearn.ensemble import ExtraTreesClassifier\n",
      "from sklearn.naive_bayes import GaussianNB\n",
      "from sklearn.ensemble import GradientBoostingClassifier\n",
      "from sklearn.ensemble import HistGradientBoostingClassifier\n",
      "from sklearn.neighbors import KNeighborsClassifier\n",
      "from sklearn.linear_model import LogisticRegression\n",
      "from sklearn.linear_model import LogisticRegressionCV\n",
      "from sklearn.naive_bayes import MultinomialNB\n",
      "from sklearn.neighbors import NearestCentroid\n",
      "from sklearn.linear_model import PassiveAggressiveClassifier\n",
      "from sklearn.linear_model import Perceptron\n",
      "from sklearn.neighbors import RadiusNeighborsClassifier\n",
      "from sklearn.ensemble import RandomForestClassifier\n",
      "from sklearn.linear_model import RidgeClassifier\n",
      "from sklearn.linear_model import RidgeClassifierCV\n",
      "from sklearn.linear_model import SGDClassifier\n",
      "from sklearn.ensemble import StackingClassifier\n",
      "from sklearn.ensemble import VotingClassifier\n"
     ]
    }
   ],
   "source": [
    "for index, row in model_df.iterrows():\n",
    "    module_name = 'sklearn.' + row['Model Type']\n",
    "    model_name = row['Model']\n",
    "    \n",
    "    print('from ' + module_name + ' import ' + model_name)"
   ]
  },
  {
   "cell_type": "code",
   "execution_count": 11,
   "metadata": {
    "execution": {
     "iopub.execute_input": "2023-05-19T10:00:45.732632Z",
     "iopub.status.busy": "2023-05-19T10:00:45.731861Z",
     "iopub.status.idle": "2023-05-19T10:00:45.803901Z",
     "shell.execute_reply": "2023-05-19T10:00:45.802862Z",
     "shell.execute_reply.started": "2023-05-19T10:00:45.732582Z"
    },
    "tags": []
   },
   "outputs": [],
   "source": [
    "from sklearn.ensemble import AdaBoostClassifier\n",
    "from sklearn.ensemble import BaggingClassifier\n",
    "from sklearn.naive_bayes import BernoulliNB\n",
    "from sklearn.naive_bayes import CategoricalNB\n",
    "from sklearn.naive_bayes import ComplementNB\n",
    "from sklearn.tree import DecisionTreeClassifier\n",
    "from sklearn.tree import ExtraTreeClassifier\n",
    "from sklearn.ensemble import ExtraTreesClassifier\n",
    "from sklearn.naive_bayes import GaussianNB\n",
    "from sklearn.ensemble import GradientBoostingClassifier\n",
    "from sklearn.ensemble import HistGradientBoostingClassifier\n",
    "from sklearn.neighbors import KNeighborsClassifier\n",
    "from sklearn.linear_model import LogisticRegression\n",
    "from sklearn.linear_model import LogisticRegressionCV\n",
    "from sklearn.naive_bayes import MultinomialNB\n",
    "from sklearn.neighbors import NearestCentroid\n",
    "from sklearn.linear_model import PassiveAggressiveClassifier\n",
    "from sklearn.linear_model import Perceptron\n",
    "from sklearn.neighbors import RadiusNeighborsClassifier\n",
    "from sklearn.ensemble import RandomForestClassifier\n",
    "from sklearn.linear_model import RidgeClassifier\n",
    "from sklearn.linear_model import RidgeClassifierCV\n",
    "from sklearn.linear_model import SGDClassifier\n",
    "from sklearn.ensemble import StackingClassifier\n",
    "from sklearn.ensemble import VotingClassifier"
   ]
  },
  {
   "cell_type": "code",
   "outputs": [
    {
     "name": "stdout",
     "output_type": "stream",
     "text": [
      "KNeighborsClassifier()\n",
      "Fitting 3 folds for each of 4 candidates, totalling 12 fits\n",
      "[CV 1/3; 1/4] START n_neighbors=1, weights=uniform..............................\n",
      "[CV 1/3; 1/4] END n_neighbors=1, weights=uniform;, score=(train=1.000, test=0.704) total time=   2.1s\n",
      "[CV 2/3; 1/4] START n_neighbors=1, weights=uniform..............................\n",
      "[CV 2/3; 1/4] END n_neighbors=1, weights=uniform;, score=(train=1.000, test=0.704) total time=   2.0s\n",
      "[CV 3/3; 1/4] START n_neighbors=1, weights=uniform..............................\n",
      "[CV 3/3; 1/4] END n_neighbors=1, weights=uniform;, score=(train=1.000, test=0.706) total time=   2.0s\n",
      "[CV 1/3; 2/4] START n_neighbors=1, weights=distance.............................\n",
      "[CV 1/3; 2/4] END n_neighbors=1, weights=distance;, score=(train=1.000, test=0.704) total time=   1.7s\n",
      "[CV 2/3; 2/4] START n_neighbors=1, weights=distance.............................\n",
      "[CV 2/3; 2/4] END n_neighbors=1, weights=distance;, score=(train=1.000, test=0.704) total time=   1.6s\n",
      "[CV 3/3; 2/4] START n_neighbors=1, weights=distance.............................\n",
      "[CV 3/3; 2/4] END n_neighbors=1, weights=distance;, score=(train=1.000, test=0.706) total time=   1.6s\n",
      "[CV 1/3; 3/4] START n_neighbors=3, weights=uniform..............................\n",
      "[CV 1/3; 3/4] END n_neighbors=3, weights=uniform;, score=(train=0.852, test=0.755) total time=   2.0s\n",
      "[CV 2/3; 3/4] START n_neighbors=3, weights=uniform..............................\n",
      "[CV 2/3; 3/4] END n_neighbors=3, weights=uniform;, score=(train=0.852, test=0.761) total time=   2.0s\n",
      "[CV 3/3; 3/4] START n_neighbors=3, weights=uniform..............................\n",
      "[CV 3/3; 3/4] END n_neighbors=3, weights=uniform;, score=(train=0.853, test=0.757) total time=   2.0s\n",
      "[CV 1/3; 4/4] START n_neighbors=3, weights=distance.............................\n",
      "[CV 1/3; 4/4] END n_neighbors=3, weights=distance;, score=(train=1.000, test=0.736) total time=   1.6s\n",
      "[CV 2/3; 4/4] START n_neighbors=3, weights=distance.............................\n",
      "[CV 2/3; 4/4] END n_neighbors=3, weights=distance;, score=(train=1.000, test=0.739) total time=   1.7s\n",
      "[CV 3/3; 4/4] START n_neighbors=3, weights=distance.............................\n",
      "[CV 3/3; 4/4] END n_neighbors=3, weights=distance;, score=(train=1.000, test=0.736) total time=   1.6s\n"
     ]
    }
   ],
   "source": [
    "def modelReport(model, model_type):\n",
    "    \n",
    "    print(model)\n",
    "    if model_type == 'ensemble':\n",
    "        print('1')\n",
    "    elif model_type == 'neighbors':\n",
    "        param_grid = {\n",
    "            'n_neighbors': [1, 3], 'weights': ['uniform', 'distance']\n",
    "        }\n",
    "        \n",
    "        grid_search = GridSearchCV(model, param_grid, cv=3, scoring='accuracy', return_train_score=True, verbose=10)\n",
    "        \n",
    "        grid_search.fit(X_train, y_train)\n",
    "                \n",
    "        # result_df.loc[len(model_df)] = [classifier[0], splitted_classifier[1]]\n",
    "        \n",
    "    elif model_type == 'naive_bayes':\n",
    "        print('1')\n",
    "    elif model_type == 'linear_model':\n",
    "        print('1')\n",
    "        \n",
    "    cv_results_df = pd.DataFrame(grid_search.cv_results_)\n",
    "\n",
    "    for index, row in cv_results_df.iterrows():\n",
    "        result_df.loc[len(result_df)] = [str(model), model_type, row['mean_train_score'], row['mean_test_score'], row['params']]\n",
    "        \n",
    "result = modelReport(eval('KNeighborsClassifier()'), 'neighbors')"
   ],
   "metadata": {
    "collapsed": false
   },
   "execution_count": 25
  },
  {
   "cell_type": "code",
   "execution_count": 61,
   "metadata": {
    "execution": {
     "iopub.execute_input": "2023-05-18T13:36:17.595888Z",
     "iopub.status.busy": "2023-05-18T13:36:17.595210Z",
     "iopub.status.idle": "2023-05-18T13:37:42.119762Z",
     "shell.execute_reply": "2023-05-18T13:37:42.118277Z",
     "shell.execute_reply.started": "2023-05-18T13:36:17.595834Z"
    },
    "tags": []
   },
   "outputs": [
    {
     "name": "stdout",
     "output_type": "stream",
     "text": [
      "AdaBoostClassifier()\n",
      "0.8112\n",
      "BaggingClassifier()\n",
      "0.7997\n",
      "BernoulliNB()\n",
      "1\n",
      "CategoricalNB()\n",
      "1\n",
      "ComplementNB()\n",
      "1\n",
      "DecisionTreeClassifier()\n",
      "ExtraTreeClassifier()\n",
      "ExtraTreesClassifier()\n",
      "0.8017\n",
      "GaussianNB()\n",
      "1\n",
      "GradientBoostingClassifier()\n",
      "0.81185\n",
      "HistGradientBoostingClassifier()\n",
      "0.81385\n",
      "KNeighborsClassifier()\n",
      "1\n",
      "LogisticRegression()\n",
      "1\n",
      "LogisticRegressionCV()\n",
      "1\n",
      "MultinomialNB()\n",
      "1\n",
      "NearestCentroid()\n",
      "1\n",
      "PassiveAggressiveClassifier()\n",
      "1\n",
      "Perceptron()\n",
      "1\n",
      "RadiusNeighborsClassifier()\n",
      "1\n",
      "RandomForestClassifier()\n",
      "0.8124\n",
      "RidgeClassifier()\n",
      "1\n",
      "RidgeClassifierCV()\n",
      "1\n",
      "SGDClassifier()\n",
      "1\n"
     ]
    },
    {
     "ename": "TypeError",
     "evalue": "StackingClassifier.__init__() missing 1 required positional argument: 'estimators'",
     "output_type": "error",
     "traceback": [
      "\u001B[0;31m---------------------------------------------------------------------------\u001B[0m",
      "\u001B[0;31mTypeError\u001B[0m                                 Traceback (most recent call last)",
      "Cell \u001B[0;32mIn[61], line 4\u001B[0m\n\u001B[1;32m      1\u001B[0m \u001B[38;5;28;01mfor\u001B[39;00m index, row \u001B[38;5;129;01min\u001B[39;00m model_df\u001B[38;5;241m.\u001B[39miterrows():\n\u001B[1;32m      2\u001B[0m     model_name \u001B[38;5;241m=\u001B[39m row[\u001B[38;5;124m'\u001B[39m\u001B[38;5;124mModel\u001B[39m\u001B[38;5;124m'\u001B[39m] \u001B[38;5;241m+\u001B[39m \u001B[38;5;124m'\u001B[39m\u001B[38;5;124m()\u001B[39m\u001B[38;5;124m'\u001B[39m\n\u001B[0;32m----> 4\u001B[0m     modelReport(\u001B[38;5;28;43meval\u001B[39;49m\u001B[43m(\u001B[49m\u001B[43mmodel_name\u001B[49m\u001B[43m)\u001B[49m, row[\u001B[38;5;124m'\u001B[39m\u001B[38;5;124mModel Type\u001B[39m\u001B[38;5;124m'\u001B[39m])\n",
      "File \u001B[0;32m<string>:1\u001B[0m\n",
      "\u001B[0;31mTypeError\u001B[0m: StackingClassifier.__init__() missing 1 required positional argument: 'estimators'"
     ]
    }
   ],
   "source": [
    "for index, row in model_df.iterrows():\n",
    "    model_name = row['Model'] + '()'\n",
    "    \n",
    "    modelReport(eval(model_name), row['Model Type'])"
   ]
  },
  {
   "cell_type": "code",
   "execution_count": 26,
   "metadata": {
    "execution": {
     "iopub.execute_input": "2023-05-18T14:30:48.006138Z",
     "iopub.status.busy": "2023-05-18T14:30:48.005307Z",
     "iopub.status.idle": "2023-05-18T14:30:48.023226Z",
     "shell.execute_reply": "2023-05-18T14:30:48.022381Z",
     "shell.execute_reply.started": "2023-05-18T14:30:48.006047Z"
    },
    "tags": []
   },
   "outputs": [
    {
     "data": {
      "text/html": [
       "<div>\n",
       "<style scoped>\n",
       "    .dataframe tbody tr th:only-of-type {\n",
       "        vertical-align: middle;\n",
       "    }\n",
       "\n",
       "    .dataframe tbody tr th {\n",
       "        vertical-align: top;\n",
       "    }\n",
       "\n",
       "    .dataframe thead th {\n",
       "        text-align: right;\n",
       "    }\n",
       "</style>\n",
       "<table border=\"1\" class=\"dataframe\">\n",
       "  <thead>\n",
       "    <tr style=\"text-align: right;\">\n",
       "      <th></th>\n",
       "      <th>Model</th>\n",
       "      <th>Model Type</th>\n",
       "      <th>Train Score</th>\n",
       "      <th>Test Score</th>\n",
       "      <th>Settings</th>\n",
       "    </tr>\n",
       "  </thead>\n",
       "  <tbody>\n",
       "    <tr>\n",
       "      <th>0</th>\n",
       "      <td>KNeighborsClassifier()</td>\n",
       "      <td>neighbors</td>\n",
       "      <td>1.00</td>\n",
       "      <td>0.70</td>\n",
       "      <td>{'n_neighbors': 1, 'weights': 'uniform'}</td>\n",
       "    </tr>\n",
       "    <tr>\n",
       "      <th>1</th>\n",
       "      <td>KNeighborsClassifier()</td>\n",
       "      <td>neighbors</td>\n",
       "      <td>1.00</td>\n",
       "      <td>0.70</td>\n",
       "      <td>{'n_neighbors': 1, 'weights': 'distance'}</td>\n",
       "    </tr>\n",
       "    <tr>\n",
       "      <th>2</th>\n",
       "      <td>KNeighborsClassifier()</td>\n",
       "      <td>neighbors</td>\n",
       "      <td>0.85</td>\n",
       "      <td>0.76</td>\n",
       "      <td>{'n_neighbors': 3, 'weights': 'uniform'}</td>\n",
       "    </tr>\n",
       "    <tr>\n",
       "      <th>3</th>\n",
       "      <td>KNeighborsClassifier()</td>\n",
       "      <td>neighbors</td>\n",
       "      <td>1.00</td>\n",
       "      <td>0.74</td>\n",
       "      <td>{'n_neighbors': 3, 'weights': 'distance'}</td>\n",
       "    </tr>\n",
       "  </tbody>\n",
       "</table>\n",
       "</div>"
      ],
      "text/plain": [
       "                    Model Model Type  Train Score  Test Score   \n",
       "0  KNeighborsClassifier()  neighbors         1.00        0.70  \\\n",
       "1  KNeighborsClassifier()  neighbors         1.00        0.70   \n",
       "2  KNeighborsClassifier()  neighbors         0.85        0.76   \n",
       "3  KNeighborsClassifier()  neighbors         1.00        0.74   \n",
       "\n",
       "                                    Settings  \n",
       "0   {'n_neighbors': 1, 'weights': 'uniform'}  \n",
       "1  {'n_neighbors': 1, 'weights': 'distance'}  \n",
       "2   {'n_neighbors': 3, 'weights': 'uniform'}  \n",
       "3  {'n_neighbors': 3, 'weights': 'distance'}  "
      ]
     },
     "execution_count": 26,
     "metadata": {},
     "output_type": "execute_result"
    }
   ],
   "source": [
    "result_df"
   ]
  },
  {
   "cell_type": "code",
   "execution_count": 16,
   "metadata": {
    "execution": {
     "iopub.execute_input": "2023-05-19T10:01:29.234601Z",
     "iopub.status.busy": "2023-05-19T10:01:29.233922Z",
     "iopub.status.idle": "2023-05-19T10:02:25.651510Z",
     "shell.execute_reply": "2023-05-19T10:02:25.648770Z",
     "shell.execute_reply.started": "2023-05-19T10:01:29.234561Z"
    },
    "tags": []
   },
   "outputs": [
    {
     "data": {
      "text/plain": [
       "0.8108625"
      ]
     },
     "execution_count": 16,
     "metadata": {},
     "output_type": "execute_result"
    }
   ],
   "source": [
    "LR = LogisticRegression()\n",
    "LR.fit(X_train, y_train)\n",
    "LR.score(X_train, y_train)"
   ]
  },
  {
   "cell_type": "code",
   "execution_count": 22,
   "metadata": {
    "execution": {
     "iopub.execute_input": "2023-05-19T09:23:53.152272Z",
     "iopub.status.busy": "2023-05-19T09:23:53.151630Z",
     "iopub.status.idle": "2023-05-19T09:23:53.157591Z",
     "shell.execute_reply": "2023-05-19T09:23:53.156688Z",
     "shell.execute_reply.started": "2023-05-19T09:23:53.152232Z"
    },
    "tags": []
   },
   "outputs": [],
   "source": [
    "coefficients = LR.coef_\n",
    "np.set_printoptions(precision=5, suppress=True)\n"
   ]
  },
  {
   "cell_type": "code",
   "execution_count": 18,
   "metadata": {
    "execution": {
     "iopub.execute_input": "2023-05-19T10:03:44.707613Z",
     "iopub.status.busy": "2023-05-19T10:03:44.707099Z",
     "iopub.status.idle": "2023-05-19T10:03:44.713160Z",
     "shell.execute_reply": "2023-05-19T10:03:44.711906Z",
     "shell.execute_reply.started": "2023-05-19T10:03:44.707578Z"
    },
    "tags": []
   },
   "outputs": [],
   "source": [
    "feature_names = X_train.columns.tolist()"
   ]
  },
  {
   "cell_type": "code",
   "execution_count": 26,
   "metadata": {
    "execution": {
     "iopub.execute_input": "2023-05-19T10:24:16.385746Z",
     "iopub.status.busy": "2023-05-19T10:24:16.384905Z",
     "iopub.status.idle": "2023-05-19T10:24:16.396415Z",
     "shell.execute_reply": "2023-05-19T10:24:16.395681Z",
     "shell.execute_reply.started": "2023-05-19T10:24:16.385675Z"
    },
    "tags": []
   },
   "outputs": [],
   "source": [
    "def coeffReport(linearModel, featureNames):\n",
    "\n",
    "    coefs=linearModel.coef_\n",
    "\n",
    "    sorted_coef = sorted(zip(featureNames, coefs[0]), key = lambda e:e[1], reverse = True)\n",
    "\n",
    "    print(\"Highest 3 Coeffs:\")\n",
    "    for e in sorted_coef[:10]:\n",
    "        print(e)\n",
    "        \n",
    "    print(\"\\nLowest 3 Coeffs:\")\n",
    "    for e in sorted_coef[-10:]:\n",
    "        print(e)\n",
    "        \n",
    "    sorted_coef_abs = sorted(zip(featureNames, abs(coefs[0])), key = lambda e:e[1])\n",
    "        \n",
    "    print(\"\\nLeast Informative 3 Coeffs (From closest to zero):\")\n",
    "    for e in sorted_coef_abs[:10]:\n",
    "        print(e)"
   ]
  },
  {
   "cell_type": "code",
   "execution_count": 27,
   "metadata": {
    "execution": {
     "iopub.execute_input": "2023-05-19T10:24:18.196825Z",
     "iopub.status.busy": "2023-05-19T10:24:18.196276Z",
     "iopub.status.idle": "2023-05-19T10:24:18.213458Z",
     "shell.execute_reply": "2023-05-19T10:24:18.212560Z",
     "shell.execute_reply.started": "2023-05-19T10:24:18.196786Z"
    },
    "tags": []
   },
   "outputs": [
    {
     "name": "stdout",
     "output_type": "stream",
     "text": [
      "Highest 3 Coeffs:\n",
      "('AIRLINE_AIRPORT_FLIGHTS_MONTH', 1.68690551623934e-05)\n",
      "('AVG_MONTHLY_PASS_AIRPORT', 6.653046600350889e-09)\n",
      "('CARRIER_NAME_Southwest Airlines Co.', 2.915237737708145e-09)\n",
      "('PRCP', 1.6209497463274546e-09)\n",
      "('SNOW', 1.1682961542205123e-09)\n",
      "('DEP_TIME_BLK_2000-2059', 8.599450242192503e-10)\n",
      "('ARR_TIME_BLK_2300-2359', 7.99130810530939e-10)\n",
      "('ARR_TIME_BLK_2200-2259', 7.936776767185562e-10)\n",
      "('DEP_TIME_BLK_1900-1959', 7.537249273948527e-10)\n",
      "('DEPARTING_AIRPORT_Atlanta Municipal', 7.187255060880925e-10)\n",
      "\n",
      "Lowest 3 Coeffs:\n",
      "('DAY_OF_WEEK', -3.6328982499105755e-08)\n",
      "('AIRLINE_FLIGHTS_MONTH', -4.4070806945113634e-08)\n",
      "('CONCURRENT_FLIGHTS', -5.136222361358479e-08)\n",
      "('AWND', -5.527900061488883e-08)\n",
      "('MONTH', -6.250851349219249e-08)\n",
      "('PLANE_AGE', -8.227157709581218e-08)\n",
      "('TMAX', -6.285051383283566e-07)\n",
      "('NUMBER_OF_SEATS', -1.0054975035447467e-06)\n",
      "('AIRPORT_FLIGHTS_MONTH', -1.2685108680610275e-06)\n",
      "('DEST_AIRPORT_ID', -0.00011196364038382762)\n",
      "\n",
      "Least Informative 3 Coeffs (From closest to zero):\n",
      "('TAIL_NUM_N16008', 0.0)\n",
      "('TAIL_NUM_N1608', 0.0)\n",
      "('TAIL_NUM_N178DN', 0.0)\n",
      "('TAIL_NUM_N186DN', 0.0)\n",
      "('TAIL_NUM_N197AN', 0.0)\n",
      "('TAIL_NUM_N277AY', 0.0)\n",
      "('TAIL_NUM_N27965', 0.0)\n",
      "('TAIL_NUM_N281AY', 0.0)\n",
      "('TAIL_NUM_N304RB', 0.0)\n",
      "('TAIL_NUM_N308RD', 0.0)\n"
     ]
    }
   ],
   "source": [
    "coeffReport(LR, feature_names)"
   ]
  },
  {
   "cell_type": "code",
   "execution_count": 7,
   "metadata": {
    "execution": {
     "iopub.execute_input": "2023-05-19T09:57:17.502453Z",
     "iopub.status.busy": "2023-05-19T09:57:17.501633Z",
     "iopub.status.idle": "2023-05-19T09:57:18.203586Z",
     "shell.execute_reply": "2023-05-19T09:57:18.202618Z",
     "shell.execute_reply.started": "2023-05-19T09:57:17.502396Z"
    },
    "tags": []
   },
   "outputs": [
    {
     "data": {
      "text/plain": [
       "<Axes: xlabel='DEP_DEL15', ylabel='PLANE_AGE'>"
      ]
     },
     "execution_count": 7,
     "metadata": {},
     "output_type": "execute_result"
    },
    {
     "data": {
      "image/png": "[encoded data removed]",
      "text/plain": [
       "<Figure size 640x480 with 1 Axes>"
      ]
     },
     "metadata": {},
     "output_type": "display_data"
    }
   ],
   "source": [
    "sns.boxplot(df, x='DEP_DEL15', y='PLANE_AGE')"
   ]
  },
  {
   "cell_type": "code",
   "execution_count": 5,
   "metadata": {
    "execution": {
     "iopub.execute_input": "2023-05-19T09:54:42.121407Z",
     "iopub.status.busy": "2023-05-19T09:54:42.120479Z",
     "iopub.status.idle": "2023-05-19T09:54:42.132774Z",
     "shell.execute_reply": "2023-05-19T09:54:42.131819Z",
     "shell.execute_reply.started": "2023-05-19T09:54:42.121338Z"
    },
    "tags": []
   },
   "outputs": [
    {
     "data": {
      "text/plain": [
       "Index(['MONTH', 'DAY_OF_MONTH', 'DAY_OF_WEEK', 'TAIL_NUM', 'DEST_AIRPORT_ID',\n",
       "       'CRS_DEP_TIME', 'DEP_TIME', 'DEP_DELAY_NEW', 'DEP_DEL15',\n",
       "       'DEP_TIME_BLK', 'CRS_ARR_TIME', 'ARR_TIME', 'ARR_DELAY_NEW',\n",
       "       'ARR_TIME_BLK', 'CRS_ELAPSED_TIME', 'ACTUAL_ELAPSED_TIME', 'DISTANCE',\n",
       "       'DISTANCE_GROUP', 'CARRIER_DELAY', 'WEATHER_DELAY', 'NAS_DELAY',\n",
       "       'SECURITY_DELAY', 'LATE_AIRCRAFT_DELAY', 'SEGMENT_NUMBER',\n",
       "       'CONCURRENT_FLIGHTS', 'NUMBER_OF_SEATS', 'CARRIER_NAME',\n",
       "       'AIRPORT_FLIGHTS_MONTH', 'AIRLINE_FLIGHTS_MONTH',\n",
       "       'AIRLINE_AIRPORT_FLIGHTS_MONTH', 'AVG_MONTHLY_PASS_AIRPORT',\n",
       "       'AVG_MONTHLY_PASS_AIRLINE', 'FLT_ATTENDANTS_PER_PASS',\n",
       "       'GROUND_SERV_PER_PASS', 'PLANE_AGE', 'DEPARTING_AIRPORT', 'LATITUDE',\n",
       "       'LONGITUDE', 'PREVIOUS_AIRPORT', 'PRCP', 'SNOW', 'SNWD', 'TMAX',\n",
       "       'AWND'],\n",
       "      dtype='object')"
      ]
     },
     "execution_count": 5,
     "metadata": {},
     "output_type": "execute_result"
    }
   ],
   "source": [
    "df.columns"
   ]
  },
  {
   "cell_type": "code",
   "execution_count": 25,
   "metadata": {
    "execution": {
     "iopub.execute_input": "2023-05-19T10:22:35.094276Z",
     "iopub.status.busy": "2023-05-19T10:22:35.093434Z",
     "iopub.status.idle": "2023-05-19T10:22:53.756677Z",
     "shell.execute_reply": "2023-05-19T10:22:53.755225Z",
     "shell.execute_reply.started": "2023-05-19T10:22:35.094219Z"
    },
    "tags": []
   },
   "outputs": [
    {
     "data": {
      "text/plain": [
       "<Axes: xlabel='DISTANCE', ylabel='DEP_DELAY_NEW'>"
      ]
     },
     "execution_count": 25,
     "metadata": {},
     "output_type": "execute_result"
    },
    {
     "data": {
      "image/png": "[encoded data removed]",
      "text/plain": [
       "<Figure size 640x480 with 1 Axes>"
      ]
     },
     "metadata": {},
     "output_type": "display_data"
    }
   ],
   "source": [
    "sns.scatterplot(df, x='DISTANCE', y='DEP_DELAY_NEW')"
   ]
  }
 ],
 "metadata": {
  "kernelspec": {
   "display_name": "Python 3 ",
   "language": "python",
   "name": "python3"
  },
  "language_info": {
   "codemirror_mode": {
    "name": "ipython",
    "version": 3
   },
   "file_extension": ".py",
   "mimetype": "text/x-python",
   "name": "python",
   "nbconvert_exporter": "python",
   "pygments_lexer": "ipython3",
   "version": "3.10.10"
  }
 },
 "nbformat": 4,
 "nbformat_minor": 4
}
